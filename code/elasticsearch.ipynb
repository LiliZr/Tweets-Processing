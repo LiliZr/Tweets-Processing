{
 "cells": [
  {
   "cell_type": "markdown",
   "id": "41a6682c-40ac-4a3d-95f6-d939f354082a",
   "metadata": {},
   "source": [
    "# Project\n",
    "## 3rd Notebook : Elasticsearch\n",
    "##### Students:\n",
    "* Lilia IZRI      (DS)\n",
    "* Yacine MOKHTARI (DS)\n",
    "* Alexandre COMBEAU (DS)\n",
    "\n",
    "##### Report\n",
    "[PENSER A METTRE UN LIEN ICI]\n"
   ]
  },
  {
   "cell_type": "code",
   "execution_count": 3,
   "id": "7e2dfe36-b87e-4122-8250-e1aee7c85e3c",
   "metadata": {},
   "outputs": [],
   "source": [
    "from elasticsearch import Elasticsearch\n",
    "# from collections import Mapping\n",
    "\n",
    "\n",
    "# database (es)\n",
    "es = Elasticsearch(\"http://host.docker.internal:9200\") # Same port when running elasticsearch with docker\n",
    "# index\n",
    "index = \"test\""
   ]
  },
  {
   "cell_type": "markdown",
   "id": "4e1dffdf-eaba-48b3-b40b-c38118af81c6",
   "metadata": {},
   "source": [
    "### Queries"
   ]
  },
  {
   "cell_type": "markdown",
   "id": "1b951f14-27ce-4173-b966-26cb51dfe65e",
   "metadata": {},
   "source": [
    "#### 1. Using the Elasticsearch Python Client"
   ]
  },
  {
   "cell_type": "markdown",
   "id": "a70719d9-0ba5-4d87-b75b-c853eca918da",
   "metadata": {},
   "source": [
    "#### Simple query to get 2 tweets just to check that it works as well "
   ]
  },
  {
   "cell_type": "code",
   "execution_count": 5,
   "id": "18e9ca9c-1bc0-4709-af32-3113091bc7b8",
   "metadata": {},
   "outputs": [
    {
     "data": {
      "text/plain": [
       "{'took': 1,\n",
       " 'timed_out': False,\n",
       " '_shards': {'total': 1, 'successful': 1, 'skipped': 0, 'failed': 0},\n",
       " 'hits': {'total': {'value': 783, 'relation': 'eq'},\n",
       "  'max_score': 1.0,\n",
       "  'hits': [{'_index': 'test',\n",
       "    '_type': '_doc',\n",
       "    '_id': ' 297070331',\n",
       "    '_score': 1.0,\n",
       "    '_source': {'user': ' SincerelyHills',\n",
       "     'tweet': ' RT @AlexJam91754067: Amber Heard says Johnny Depp\\'s jealousy toward James Franco was \"a nightmare.\" Here she is sneaking Franco into Johnny…',\n",
       "     'date': ' Fri May 06 10:34:19 +0000 2022',\n",
       "     'lat': ' 51.5384287',\n",
       "     'lon': ' -0.0999051',\n",
       "     'hashtags': ' ',\n",
       "     'sentiment': ' 0',\n",
       "     'id': ' 297070331'}},\n",
       "   {'_index': 'test',\n",
       "    '_type': '_doc',\n",
       "    '_id': ' 1291493877053087746',\n",
       "    '_score': 1.0,\n",
       "    '_source': {'user': ' GT_LeighAsh1',\n",
       "     'tweet': ' RT @HLNTV: \"From the forehead to the nose, emotion flows.\" Body language expert points out where Johnny Depp\\'s confusion &amp; disagreement com…',\n",
       "     'date': ' Fri May 06 10:34:20 +0000 2022',\n",
       "     'lat': ' 52.5310214',\n",
       "     'lon': ' -1.2649062',\n",
       "     'hashtags': ' ',\n",
       "     'sentiment': ' 0',\n",
       "     'id': ' 1291493877053087746'}}]}}"
      ]
     },
     "execution_count": 5,
     "metadata": {},
     "output_type": "execute_result"
    }
   ],
   "source": [
    "query_body = {\n",
    "    \"match_all\": {}\n",
    "}\n",
    "es.search(index=index, query=query_body, size=2)"
   ]
  },
  {
   "cell_type": "markdown",
   "id": "0b661ad0-0d6b-40c4-b590-3c54fa7fbc1c",
   "metadata": {},
   "source": [
    "#### Query where we check for for a term with a boost"
   ]
  },
  {
   "cell_type": "code",
   "execution_count": 6,
   "id": "9e32dacc-48fc-41b5-b317-f8a4d9be2f71",
   "metadata": {},
   "outputs": [
    {
     "data": {
      "text/plain": [
       "{'took': 2,\n",
       " 'timed_out': False,\n",
       " '_shards': {'total': 1, 'successful': 1, 'skipped': 0, 'failed': 0},\n",
       " 'hits': {'total': {'value': 8, 'relation': 'eq'},\n",
       "  'max_score': 4.125748,\n",
       "  'hits': [{'_index': 'test',\n",
       "    '_type': '_doc',\n",
       "    '_id': ' 3396680813',\n",
       "    '_score': 4.125748,\n",
       "    '_source': {'user': ' FerfeLaBat',\n",
       "     'tweet': ' RT @TetrisphereJon6: Amber Heard just mentioned Kate Moss on the stand &amp; Johnny Depp’s lawyers celebrated. They just caught her in a lie ab…',\n",
       "     'date': ' Fri May 06 12:38:17 +0000 2022',\n",
       "     'lat': ' 24.9242995',\n",
       "     'lon': ' -80.6278404',\n",
       "     'hashtags': ' ',\n",
       "     'sentiment': ' 1',\n",
       "     'id': ' 3396680813'}},\n",
       "   {'_index': 'test',\n",
       "    '_type': '_doc',\n",
       "    '_id': ' 1664452638',\n",
       "    '_score': 4.125748,\n",
       "    '_source': {'user': ' qierz_',\n",
       "     'tweet': ' RT @TetrisphereJon6: Amber Heard just mentioned Kate Moss on the stand &amp; Johnny Depp’s lawyers celebrated. They just caught her in a lie ab…',\n",
       "     'date': ' Fri May 06 12:38:18 +0000 2022',\n",
       "     'lat': ' 51.72031805',\n",
       "     'lon': ' 5.322910130172562',\n",
       "     'hashtags': ' ',\n",
       "     'sentiment': ' 1',\n",
       "     'id': ' 1664452638'}}]}}"
      ]
     },
     "execution_count": 6,
     "metadata": {},
     "output_type": "execute_result"
    }
   ],
   "source": [
    "term2 = \"lawyer\"\n",
    "query_with_boost = {\n",
    "    \"span_multi\": {\n",
    "      \"match\": {\n",
    "        \"prefix\": { \"tweet\": { \"value\": term2, \"boost\": 1.08 } }\n",
    "      }\n",
    "    } \n",
    "}\n",
    "es.search(index=index, query=query_with_boost, size=2)"
   ]
  },
  {
   "cell_type": "markdown",
   "id": "a13c6dea-ce24-4b84-87f4-67f74bee63dd",
   "metadata": {},
   "source": [
    "#### Check for a term in the text of the tweet or the user "
   ]
  },
  {
   "cell_type": "code",
   "execution_count": 7,
   "id": "46f22c98-f4b5-45b0-9ebe-ef6811eb9ae3",
   "metadata": {},
   "outputs": [
    {
     "data": {
      "text/plain": [
       "{'took': 2,\n",
       " 'timed_out': False,\n",
       " '_shards': {'total': 1, 'successful': 1, 'skipped': 0, 'failed': 0},\n",
       " 'hits': {'total': {'value': 24, 'relation': 'eq'},\n",
       "  'max_score': 4.4143505,\n",
       "  'hits': [{'_index': 'test',\n",
       "    '_type': '_doc',\n",
       "    '_id': ' 2230823888',\n",
       "    '_score': 4.4143505,\n",
       "    '_source': {'user': ' 13SarahC',\n",
       "     'tweet': ' RT @emma_lou_brown: So this is why Ben gave a fist bump when she mentioned Kate Moss. She has previously alleged JD pushed Kate down the st…',\n",
       "     'date': ' Fri May 06 12:43:43 +0000 2022',\n",
       "     'lat': ' 44.933143',\n",
       "     'lon': ' 7.540121',\n",
       "     'hashtags': ' ',\n",
       "     'sentiment': ' -1',\n",
       "     'id': ' 2230823888'}},\n",
       "   {'_index': 'test',\n",
       "    '_type': '_doc',\n",
       "    '_id': ' 1392751646979940354',\n",
       "    '_score': 4.0637655,\n",
       "    '_source': {'user': ' nazmulmarketer1',\n",
       "     'tweet': ' Case Update: Did Kate Moss Really Endure Johnny Depp\\xa0Violence? https://t.co/3ByEM7fSaS',\n",
       "     'date': ' Fri May 06 12:53:08 +0000 2022',\n",
       "     'lat': ' 24.4769288',\n",
       "     'lon': ' 90.2934413',\n",
       "     'hashtags': ' ',\n",
       "     'sentiment': ' 1',\n",
       "     'id': ' 1392751646979940354'}}]}}"
      ]
     },
     "execution_count": 7,
     "metadata": {},
     "output_type": "execute_result"
    }
   ],
   "source": [
    "term3 = \"Kate\"\n",
    "query_body = {\n",
    "    \"multi_match\": {\n",
    "        \"query\": term3,\n",
    "        \"type\": \"most_fields\",\n",
    "        \"fields\": [\"tweet\", \"user\"]\n",
    "    }    \n",
    "}\n",
    "\n",
    "es.search(index=index, query=query_body, size=2)"
   ]
  },
  {
   "cell_type": "markdown",
   "id": "08ddbd8b-d1f8-4454-a6a5-5363da4a1ddd",
   "metadata": {},
   "source": [
    "#### Query with a regexp and highlight"
   ]
  },
  {
   "cell_type": "code",
   "execution_count": 8,
   "id": "42b240b3-3711-4a7c-9868-c94dd9ff1c18",
   "metadata": {},
   "outputs": [
    {
     "name": "stderr",
     "output_type": "stream",
     "text": [
      "/tmp/ipykernel_7835/3593569734.py:24: DeprecationWarning: The 'body' parameter is deprecated for the 'search' API and will be removed in a future version. Instead use API parameters directly. See https://github.com/elastic/elasticsearch-py/issues/1698 for more information\n",
      "  es.search(index=index, body=body_query, size=2)\n"
     ]
    },
    {
     "data": {
      "text/plain": [
       "{'took': 6,\n",
       " 'timed_out': False,\n",
       " '_shards': {'total': 1, 'successful': 1, 'skipped': 0, 'failed': 0},\n",
       " 'hits': {'total': {'value': 7, 'relation': 'eq'},\n",
       "  'max_score': 1.0,\n",
       "  'hits': [{'_index': 'test',\n",
       "    '_type': '_doc',\n",
       "    '_id': ' 2407110908',\n",
       "    '_score': 1.0,\n",
       "    '_source': {'user': ' NooraBK',\n",
       "     'tweet': ' RT @NaserMestarihi: She’s pretending to be scared as Johnny Depp’s leaving the courtroom. This bitch is crazy. 😂 https://t.co/DVRb6ZvhI3',\n",
       "     'date': ' Fri May 06 12:42:35 +0000 2022',\n",
       "     'lat': ' 25.2653471',\n",
       "     'lon': ' 55.2924914',\n",
       "     'hashtags': ' ',\n",
       "     'sentiment': ' -1',\n",
       "     'id': ' 2407110908'},\n",
       "    'highlight': {'user': ['<em>NooraBK</em>']}},\n",
       "   {'_index': 'test',\n",
       "    '_type': '_doc',\n",
       "    '_id': ' 2164802278',\n",
       "    '_score': 1.0,\n",
       "    '_source': {'user': ' noora1326',\n",
       "     'tweet': \" RT @paulkart76: I'm thankful Johnny Depp is even still alive at all. Amber Heard is one of the scariest women I've ever seen. This is her i…\",\n",
       "     'date': ' Fri May 06 12:44:59 +0000 2022',\n",
       "     'lat': ' 25.029422',\n",
       "     'lon': ' -77.36195598496681',\n",
       "     'hashtags': ' ',\n",
       "     'sentiment': ' 1',\n",
       "     'id': ' 2164802278'},\n",
       "    'highlight': {'user': ['<em>noora1326</em>']}}]}}"
      ]
     },
     "execution_count": 8,
     "metadata": {},
     "output_type": "execute_result"
    }
   ],
   "source": [
    "field = \"user\"\n",
    "regexp = \"no.*\"\n",
    "\n",
    "body_query = {\n",
    "  \"query\": {\n",
    "    \"regexp\": {\n",
    "      field: {\n",
    "        \"value\": regexp,\n",
    "        \"flags\": \"ALL\",\n",
    "        \"case_insensitive\": False,\n",
    "        \"max_determinized_states\": 10000,\n",
    "        \"rewrite\": \"constant_score\"\n",
    "      }\n",
    "    }\n",
    "  },\n",
    "  \"highlight\" : {    \n",
    "        \"pre_tags\" : [\"<em>\"],\n",
    "        \"post_tags\" : [\"</em>\"],\n",
    "        \"fields\" : {\n",
    "            \"user\" : {}\n",
    "        }\n",
    "   }\n",
    "}\n",
    "es.search(index=index, body=body_query, size=2)\n"
   ]
  },
  {
   "cell_type": "markdown",
   "id": "a4019dbe-5c02-49a1-80af-7a751bf1c995",
   "metadata": {},
   "source": [
    "#### 2. Using the extended elasticsearch_dsl API (especially, the search engine in it)"
   ]
  },
  {
   "cell_type": "markdown",
   "id": "314dee85-ae2e-47bf-9601-fc83e16f5586",
   "metadata": {},
   "source": [
    "Basically, this is just a \"simpler\" way to express the previous "
   ]
  },
  {
   "cell_type": "code",
   "execution_count": 11,
   "id": "0a48dc7d-d8f7-46f7-aa5a-51002438877f",
   "metadata": {},
   "outputs": [],
   "source": [
    "from elasticsearch_dsl import Search\n",
    "\n",
    "# Search engine\n",
    "s = Search(using=es, index=index)"
   ]
  },
  {
   "cell_type": "code",
   "execution_count": 12,
   "id": "d9a90a12-c423-439f-8d42-47f397251844",
   "metadata": {},
   "outputs": [
    {
     "name": "stdout",
     "output_type": "stream",
     "text": [
      " RT @Familoo: I’m not going to retweet any of the footage of the Heard v Depp (Depp v Heard?) trial - but haven’t the American courts heard…\n",
      " Viikon tauko #depp #heard oikeudenkäynnistä tulee tarpeeseen?\n",
      " RT @mariomojc: Cuando Bredehoft pregunta sobre las peleas de Heard con Depp sobre James Franco, Heard testifica: \"Fue una pesadilla\". Antes…\n",
      " @Glenn__Kenny Are you watching the Depp Heard case?\n",
      " @StanleyCohenLaw Depp says his career was ruined by Heard....Heard says her accusations of abuse are valid, Depp says he was abused too...\n",
      " RT @SystemicDunking: I feel like I'm watching Amber heard playing the role of Amber heard in a made for tv movie about Johnny Depp. Its wil…\n",
      " Amber Heard x Johnny Depp les deux sont complètement toxiques\n",
      " RT @ellisgreg: Believe all women? Even Amber Heard? https://t.co/7OCYTx6qqV\n",
      " RT @ellisgreg: Believe all women? Even Amber Heard? https://t.co/7OCYTx6qqV\n",
      " RT @ellisgreg: Believe all women? Even Amber Heard? https://t.co/7OCYTx6qqV\n"
     ]
    }
   ],
   "source": [
    "# Query where \"heard\" appears in the tweet text\n",
    "\n",
    "term = \"heard\"\n",
    "result = s.query('match', tweet=term).execute()\n",
    "for hit in result:\n",
    "    print(hit.tweet)"
   ]
  },
  {
   "cell_type": "code",
   "execution_count": null,
   "id": "a7e95137-3ef9-4805-9632-d25a08dabd55",
   "metadata": {},
   "outputs": [],
   "source": []
  }
 ],
 "metadata": {
  "kernelspec": {
   "display_name": "Python 3 (ipykernel)",
   "language": "python",
   "name": "python3"
  },
  "language_info": {
   "codemirror_mode": {
    "name": "ipython",
    "version": 3
   },
   "file_extension": ".py",
   "mimetype": "text/x-python",
   "name": "python",
   "nbconvert_exporter": "python",
   "pygments_lexer": "ipython3",
   "version": "3.9.10"
  }
 },
 "nbformat": 4,
 "nbformat_minor": 5
}
