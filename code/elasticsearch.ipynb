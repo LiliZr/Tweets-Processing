{
 "cells": [
  {
   "cell_type": "markdown",
   "id": "41a6682c-40ac-4a3d-95f6-d939f354082a",
   "metadata": {},
   "source": [
    "# Project\n",
    "## 3rd Notebook : Elasticsearch\n",
    "##### Students:\n",
    "* Lilia IZRI      (DS)\n",
    "* Yacine MOKHTARI (DS)\n",
    "* Alexandre COMBEAU (DS)\n",
    "\n",
    "##### Report\n",
    "[PENSER A METTRE UN LIEN ICI]\n"
   ]
  },
  {
   "cell_type": "code",
   "execution_count": 1,
   "id": "7e2dfe36-b87e-4122-8250-e1aee7c85e3c",
   "metadata": {},
   "outputs": [],
   "source": [
    "from elasticsearch import Elasticsearch\n",
    "# from collections import Mapping\n",
    "\n",
    "\n",
    "# database (es)\n",
    "es = Elasticsearch(\"http://host.docker.internal:9200\") # Same port when running elasticsearch with docker\n",
    "# index\n",
    "index = \"filtered_tweets\""
   ]
  },
  {
   "cell_type": "markdown",
   "id": "4e1dffdf-eaba-48b3-b40b-c38118af81c6",
   "metadata": {},
   "source": [
    "### Queries"
   ]
  },
  {
   "cell_type": "markdown",
   "id": "1b951f14-27ce-4173-b966-26cb51dfe65e",
   "metadata": {},
   "source": [
    "#### 1. Using the Elasticsearch Python Client"
   ]
  },
  {
   "cell_type": "markdown",
   "id": "a70719d9-0ba5-4d87-b75b-c853eca918da",
   "metadata": {
    "tags": []
   },
   "source": [
    "##### Simple query to get 2 tweets just to check that it works as well "
   ]
  },
  {
   "cell_type": "code",
   "execution_count": 2,
   "id": "18e9ca9c-1bc0-4709-af32-3113091bc7b8",
   "metadata": {},
   "outputs": [
    {
     "name": "stderr",
     "output_type": "stream",
     "text": [
      "/opt/conda/lib/python3.9/site-packages/elasticsearch/connection/base.py:200: ElasticsearchWarning: Elasticsearch built-in security features are not enabled. Without authentication, your cluster could be accessible to anyone. See https://www.elastic.co/guide/en/elasticsearch/reference/7.17/security-minimal-setup.html to enable security.\n",
      "  warnings.warn(message, category=ElasticsearchWarning)\n"
     ]
    },
    {
     "data": {
      "text/plain": [
       "{'took': 2,\n",
       " 'timed_out': False,\n",
       " '_shards': {'total': 1, 'successful': 1, 'skipped': 0, 'failed': 0},\n",
       " 'hits': {'total': {'value': 547, 'relation': 'eq'},\n",
       "  'max_score': 1.0,\n",
       "  'hits': [{'_index': 'filtered_tweets',\n",
       "    '_type': '_doc',\n",
       "    '_id': '3169376024',\n",
       "    '_score': 1.0,\n",
       "    '_source': {'user': 'dinkinflickaa_',\n",
       "     'tweet': 'RT @TetrisphereJon6: Amber Heard just mentioned Kate Moss on the stand &amp; Johnny Depp’s lawyers celebrated. They just caught her in a lie ab…',\n",
       "     'date': 'Fri May 06 14:10:41 +0000 2022',\n",
       "     'lat': '44.933143',\n",
       "     'lon': '7.540121',\n",
       "     'hashtags': '',\n",
       "     'sentiment': '1',\n",
       "     'id': '3169376024'}},\n",
       "   {'_index': 'filtered_tweets',\n",
       "    '_type': '_doc',\n",
       "    '_id': '590228693',\n",
       "    '_score': 1.0,\n",
       "    '_source': {'user': 'NadinetTr',\n",
       "     'tweet': '@lawyerschiff that is false https://t.co/K4D50BO2kB https://t.co/EafsRBuKau',\n",
       "     'date': 'Fri May 06 14:10:42 +0000 2022',\n",
       "     'lat': '61.0666922',\n",
       "     'lon': '-107.991707',\n",
       "     'hashtags': '',\n",
       "     'sentiment': '-1',\n",
       "     'id': '590228693'}}]}}"
      ]
     },
     "execution_count": 2,
     "metadata": {},
     "output_type": "execute_result"
    }
   ],
   "source": [
    "query_body = {\n",
    "    \"match_all\": {}\n",
    "}\n",
    "es.search(index=index, query=query_body, size=2)"
   ]
  },
  {
   "cell_type": "markdown",
   "id": "0b661ad0-0d6b-40c4-b590-3c54fa7fbc1c",
   "metadata": {
    "tags": []
   },
   "source": [
    "##### Query where we check for a term with a boost"
   ]
  },
  {
   "cell_type": "code",
   "execution_count": 3,
   "id": "9e32dacc-48fc-41b5-b317-f8a4d9be2f71",
   "metadata": {},
   "outputs": [
    {
     "data": {
      "text/plain": [
       "{'took': 5,\n",
       " 'timed_out': False,\n",
       " '_shards': {'total': 1, 'successful': 1, 'skipped': 0, 'failed': 0},\n",
       " 'hits': {'total': {'value': 11, 'relation': 'eq'},\n",
       "  'max_score': 20.22163,\n",
       "  'hits': [{'_index': 'filtered_tweets',\n",
       "    '_type': '_doc',\n",
       "    '_id': '590228693',\n",
       "    '_score': 20.22163,\n",
       "    '_source': {'user': 'NadinetTr',\n",
       "     'tweet': '@lawyerschiff that is false https://t.co/K4D50BO2kB https://t.co/EafsRBuKau',\n",
       "     'date': 'Fri May 06 14:10:42 +0000 2022',\n",
       "     'lat': '61.0666922',\n",
       "     'lon': '-107.991707',\n",
       "     'hashtags': '',\n",
       "     'sentiment': '-1',\n",
       "     'id': '590228693'}},\n",
       "   {'_index': 'filtered_tweets',\n",
       "    '_type': '_doc',\n",
       "    '_id': '1270491551043596289',\n",
       "    '_score': 16.796377,\n",
       "    '_source': {'user': 'luminu2020',\n",
       "     'tweet': 'RT @MissAkuaAfriyie: Johnny Depp’s lawyers just need to read tweets. Fact checkers everywhere and they come with receipts',\n",
       "     'date': 'Fri May 06 13:29:20 +0000 2022',\n",
       "     'lat': '44.933143',\n",
       "     'lon': '7.540121',\n",
       "     'hashtags': '',\n",
       "     'sentiment': '0',\n",
       "     'id': '1270491551043596289'}}]}}"
      ]
     },
     "execution_count": 3,
     "metadata": {},
     "output_type": "execute_result"
    }
   ],
   "source": [
    "term2 = \"lawyer\"\n",
    "query_with_boost = {\n",
    "    \"span_multi\": {\n",
    "      \"match\": {\n",
    "        \"prefix\": { \"tweet\": { \"value\": term2, \"boost\": 1.08 } }\n",
    "      }\n",
    "    } \n",
    "}\n",
    "es.search(index=index, query=query_with_boost, size=2)"
   ]
  },
  {
   "cell_type": "markdown",
   "id": "a13c6dea-ce24-4b84-87f4-67f74bee63dd",
   "metadata": {
    "tags": []
   },
   "source": [
    "##### Check for a term in the text of the tweet or the user "
   ]
  },
  {
   "cell_type": "code",
   "execution_count": 4,
   "id": "46f22c98-f4b5-45b0-9ebe-ef6811eb9ae3",
   "metadata": {},
   "outputs": [
    {
     "data": {
      "text/plain": [
       "{'took': 4,\n",
       " 'timed_out': False,\n",
       " '_shards': {'total': 1, 'successful': 1, 'skipped': 0, 'failed': 0},\n",
       " 'hits': {'total': {'value': 17, 'relation': 'eq'},\n",
       "  'max_score': 3.6380336,\n",
       "  'hits': [{'_index': 'filtered_tweets',\n",
       "    '_type': '_doc',\n",
       "    '_id': '1516518637292511232',\n",
       "    '_score': 3.6380336,\n",
       "    '_source': {'user': 'moviezclubs2',\n",
       "     'tweet': 'What Did Amber Heard Assistant Kate James Say About Johnny Depp? Explained\\xa0– https://t.co/tMlrvUh3wO',\n",
       "     'date': 'Fri May 06 14:11:56 +0000 2022',\n",
       "     'lat': '44.933143',\n",
       "     'lon': '7.540121',\n",
       "     'hashtags': '',\n",
       "     'sentiment': '0',\n",
       "     'id': '1516518637292511232'}},\n",
       "   {'_index': 'filtered_tweets',\n",
       "    '_type': '_doc',\n",
       "    '_id': '3059665419',\n",
       "    '_score': 3.3363068,\n",
       "    '_source': {'user': 'iffycanfly',\n",
       "     'tweet': \"RT @IceQueenCherie: @stfnysnddn Yes, because Kate Moss is Depp's ex gf.  Amber's testimony made relevant previous relationships, hence JD's…\",\n",
       "     'date': 'Fri May 06 13:28:56 +0000 2022',\n",
       "     'lat': '39.7837304',\n",
       "     'lon': '-100.445882',\n",
       "     'hashtags': '',\n",
       "     'sentiment': '1',\n",
       "     'id': '3059665419'}}]}}"
      ]
     },
     "execution_count": 4,
     "metadata": {},
     "output_type": "execute_result"
    }
   ],
   "source": [
    "term3 = \"Kate\"\n",
    "query_body = {\n",
    "    \"multi_match\": {\n",
    "        \"query\": term3,\n",
    "        \"type\": \"most_fields\",\n",
    "        \"fields\": [\"tweet\", \"user\"]\n",
    "    }    \n",
    "}\n",
    "\n",
    "es.search(index=index, query=query_body, size=2)"
   ]
  },
  {
   "cell_type": "markdown",
   "id": "08ddbd8b-d1f8-4454-a6a5-5363da4a1ddd",
   "metadata": {
    "tags": []
   },
   "source": [
    "##### Query with a regexp and highlight"
   ]
  },
  {
   "cell_type": "code",
   "execution_count": 5,
   "id": "42b240b3-3711-4a7c-9868-c94dd9ff1c18",
   "metadata": {},
   "outputs": [
    {
     "name": "stderr",
     "output_type": "stream",
     "text": [
      "/tmp/ipykernel_21971/3593569734.py:24: DeprecationWarning: The 'body' parameter is deprecated for the 'search' API and will be removed in a future version. Instead use API parameters directly. See https://github.com/elastic/elasticsearch-py/issues/1698 for more information\n",
      "  es.search(index=index, body=body_query, size=2)\n"
     ]
    },
    {
     "data": {
      "text/plain": [
       "{'took': 8,\n",
       " 'timed_out': False,\n",
       " '_shards': {'total': 1, 'successful': 1, 'skipped': 0, 'failed': 0},\n",
       " 'hits': {'total': {'value': 3, 'relation': 'eq'},\n",
       "  'max_score': 1.0,\n",
       "  'hits': [{'_index': 'filtered_tweets',\n",
       "    '_type': '_doc',\n",
       "    '_id': '197204625',\n",
       "    '_score': 1.0,\n",
       "    '_source': {'user': 'NoBombardeenUIO',\n",
       "     'tweet': 'Johnny Depp:  –\"Amber era tan mala que me hizo acompañarle a presentar una demanda ante la FIFA para que a Ecuador… https://t.co/TBIFW32qgc',\n",
       "     'date': 'Fri May 06 14:11:29 +0000 2022',\n",
       "     'lat': '25.029422',\n",
       "     'lon': '-77.36195598496681',\n",
       "     'hashtags': '',\n",
       "     'sentiment': '0',\n",
       "     'id': '197204625'},\n",
       "    'highlight': {'user': ['<em>NoBombardeenUIO</em>']}},\n",
       "   {'_index': 'filtered_tweets',\n",
       "    '_type': '_doc',\n",
       "    '_id': '1309527365509427206',\n",
       "    '_score': 1.0,\n",
       "    '_source': {'user': 'nocturnabelle',\n",
       "     'tweet': 'RT @hleneeh: the way people jump to use ableist language when discussing depp v. heard is something else',\n",
       "     'date': 'Fri May 06 14:10:38 +0000 2022',\n",
       "     'lat': '40.7127281',\n",
       "     'lon': '-74.0060152',\n",
       "     'hashtags': '',\n",
       "     'sentiment': '0',\n",
       "     'id': '1309527365509427206'},\n",
       "    'highlight': {'user': ['<em>nocturnabelle</em>']}}]}}"
      ]
     },
     "execution_count": 5,
     "metadata": {},
     "output_type": "execute_result"
    }
   ],
   "source": [
    "field = \"user\"\n",
    "regexp = \"no.*\"\n",
    "\n",
    "body_query = {\n",
    "  \"query\": {\n",
    "    \"regexp\": {\n",
    "      field: {\n",
    "        \"value\": regexp,\n",
    "        \"flags\": \"ALL\",\n",
    "        \"case_insensitive\": False,\n",
    "        \"max_determinized_states\": 10000,\n",
    "        \"rewrite\": \"constant_score\"\n",
    "      }\n",
    "    }\n",
    "  },\n",
    "  \"highlight\" : {    \n",
    "        \"pre_tags\" : [\"<em>\"],\n",
    "        \"post_tags\" : [\"</em>\"],\n",
    "        \"fields\" : {\n",
    "            \"user\" : {}\n",
    "        }\n",
    "   }\n",
    "}\n",
    "es.search(index=index, body=body_query, size=2)\n"
   ]
  },
  {
   "cell_type": "markdown",
   "id": "a4019dbe-5c02-49a1-80af-7a751bf1c995",
   "metadata": {},
   "source": [
    "#### 2. Using the extended elasticsearch_dsl API (especially, the search engine in it)"
   ]
  },
  {
   "cell_type": "markdown",
   "id": "314dee85-ae2e-47bf-9601-fc83e16f5586",
   "metadata": {},
   "source": [
    "Basically, this is just a \"simpler\" way to express the previous queries. <br>\n",
    "We will onnly do one query (search a term in a tweet)"
   ]
  },
  {
   "cell_type": "code",
   "execution_count": 6,
   "id": "0a48dc7d-d8f7-46f7-aa5a-51002438877f",
   "metadata": {},
   "outputs": [],
   "source": [
    "from elasticsearch_dsl import Search\n",
    "\n",
    "# Search engine\n",
    "s = Search(using=es, index=index)"
   ]
  },
  {
   "cell_type": "markdown",
   "id": "4e4f8b67-a28e-44a0-be5c-7f6c02236cd7",
   "metadata": {},
   "source": [
    "##### Query where \"heard\" appears in the tweet text"
   ]
  },
  {
   "cell_type": "code",
   "execution_count": 7,
   "id": "d9a90a12-c423-439f-8d42-47f397251844",
   "metadata": {},
   "outputs": [
    {
     "name": "stdout",
     "output_type": "stream",
     "text": [
      "RT @GellertDeppBR: Amber Heard: Na Austrália fui espancada, torturada e est*prada por Johnny Depp.  Amber Heard voltando da Austrália:  #Ju…\n",
      "RT @samjrakoh: amber heard listening to kate james' testimony of amber's abuse of her/amber heard listening to audio of herself abusing joh…\n",
      "I would LOVE to see the responses of the Amber Heard sympathisers when they get shown the audio of Heard literally… https://t.co/dZSeoSy6Co\n",
      "RT @KinelRyan: So strange that Amber Heard is suddenly telling stories that no one has ever heard before about Johnny Depp, that no one can…\n",
      "RT @SystemicDunking: I feel like I'm watching Amber heard playing the role of Amber heard in a made for tv movie about Johnny Depp. Its wil…\n",
      "RT @ellisgreg: Believe all women? Even Amber Heard? https://t.co/7OCYTx6qqV\n",
      "RT @ellisgreg: Believe all women? Even Amber Heard? https://t.co/7OCYTx6qqV\n",
      "Rayuan Maut Johnny Depp saat Lamar Amber Heard https://t.co/bUmDE5WdTq\n",
      "Sinestas perdudo enbeo casobde Depp Vs Heard, acá te enteras👇\n",
      "RT @dougnappa: Amber Heard testemunhando contra o Johnny Depp: https://t.co/pgknKoItfu\n"
     ]
    }
   ],
   "source": [
    "term = \"heard\"\n",
    "result = s.query('match', tweet=term).execute()\n",
    "for hit in result:\n",
    "    print(hit.tweet)"
   ]
  },
  {
   "cell_type": "code",
   "execution_count": null,
   "id": "a7e95137-3ef9-4805-9632-d25a08dabd55",
   "metadata": {},
   "outputs": [],
   "source": []
  }
 ],
 "metadata": {
  "kernelspec": {
   "display_name": "Python 3 (ipykernel)",
   "language": "python",
   "name": "python3"
  },
  "language_info": {
   "codemirror_mode": {
    "name": "ipython",
    "version": 3
   },
   "file_extension": ".py",
   "mimetype": "text/x-python",
   "name": "python",
   "nbconvert_exporter": "python",
   "pygments_lexer": "ipython3",
   "version": "3.9.10"
  }
 },
 "nbformat": 4,
 "nbformat_minor": 5
}
