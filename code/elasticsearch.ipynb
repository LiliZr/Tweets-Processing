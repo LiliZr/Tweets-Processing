{
 "cells": [
  {
   "cell_type": "markdown",
   "id": "41a6682c-40ac-4a3d-95f6-d939f354082a",
   "metadata": {},
   "source": [
    "# Project\n",
    "## 3rd Notebook : Elasticsearch\n",
    "##### Students:\n",
    "* Lilia IZRI      (DS)\n",
    "* Yacine MOKHTARI (DS)\n",
    "* Alexandre COMBEAU (DS)\n",
    "\n",
    "##### Report\n",
    "[PENSER A METTRE UN LIEN ICI]\n"
   ]
  },
  {
   "cell_type": "code",
   "execution_count": 27,
   "id": "7e2dfe36-b87e-4122-8250-e1aee7c85e3c",
   "metadata": {},
   "outputs": [],
   "source": [
    "from elasticsearch import Elasticsearch\n",
    "# from collections import Mapping\n",
    "\n",
    "\n",
    "# database (es)\n",
    "es = Elasticsearch(\"http://host.docker.internal:9200\") # Same port when running elasticsearch with docker"
   ]
  },
  {
   "cell_type": "markdown",
   "id": "4e1dffdf-eaba-48b3-b40b-c38118af81c6",
   "metadata": {},
   "source": [
    "### Queries"
   ]
  },
  {
   "cell_type": "markdown",
   "id": "1b951f14-27ce-4173-b966-26cb51dfe65e",
   "metadata": {},
   "source": [
    "#### 1. Using the Elasticsearch Python Client"
   ]
  },
  {
   "cell_type": "code",
   "execution_count": null,
   "id": "b32e3442-948f-46f4-8424-4935c5059c2d",
   "metadata": {},
   "outputs": [],
   "source": []
  },
  {
   "cell_type": "code",
   "execution_count": null,
   "id": "18e9ca9c-1bc0-4709-af32-3113091bc7b8",
   "metadata": {},
   "outputs": [],
   "source": []
  },
  {
   "cell_type": "code",
   "execution_count": null,
   "id": "adaf1d79-b49e-484b-a06a-1f38212c0336",
   "metadata": {},
   "outputs": [],
   "source": []
  },
  {
   "cell_type": "markdown",
   "id": "a4019dbe-5c02-49a1-80af-7a751bf1c995",
   "metadata": {},
   "source": [
    "#### 2. Using the extended elasticsearch_dsl API (especially, the search engine in it)"
   ]
  },
  {
   "cell_type": "markdown",
   "id": "314dee85-ae2e-47bf-9601-fc83e16f5586",
   "metadata": {},
   "source": [
    "Basically, this is just a \"simpler\" way to express the previous "
   ]
  },
  {
   "cell_type": "code",
   "execution_count": 28,
   "id": "0a48dc7d-d8f7-46f7-aa5a-51002438877f",
   "metadata": {},
   "outputs": [],
   "source": [
    "from elasticsearch_dsl import Search\n",
    "\n",
    "# Search engine\n",
    "s = Search(using=es, index=\"filtered_tweets\")"
   ]
  },
  {
   "cell_type": "code",
   "execution_count": null,
   "id": "d9a90a12-c423-439f-8d42-47f397251844",
   "metadata": {},
   "outputs": [],
   "source": []
  },
  {
   "cell_type": "code",
   "execution_count": null,
   "id": "a7e95137-3ef9-4805-9632-d25a08dabd55",
   "metadata": {},
   "outputs": [],
   "source": []
  }
 ],
 "metadata": {
  "kernelspec": {
   "display_name": "Python 3 (ipykernel)",
   "language": "python",
   "name": "python3"
  },
  "language_info": {
   "codemirror_mode": {
    "name": "ipython",
    "version": 3
   },
   "file_extension": ".py",
   "mimetype": "text/x-python",
   "name": "python",
   "nbconvert_exporter": "python",
   "pygments_lexer": "ipython3",
   "version": "3.9.10"
  }
 },
 "nbformat": 4,
 "nbformat_minor": 5
}
