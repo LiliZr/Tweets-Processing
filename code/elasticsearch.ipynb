{
 "cells": [
  {
   "cell_type": "markdown",
   "id": "41a6682c-40ac-4a3d-95f6-d939f354082a",
   "metadata": {},
   "source": [
    "# Project\n",
    "## 3rd Notebook : Elasticsearch\n",
    "##### Students:\n",
    "* Lilia IZRI      (DS)\n",
    "* Yacine MOKHTARI (DS)\n",
    "* Alexandre COMBEAU (DS)\n",
    "\n",
    "##### Report\n",
    "[PENSER A METTRE UN LIEN ICI]\n"
   ]
  },
  {
   "cell_type": "markdown",
   "id": "a510cb17-e10b-47fa-8544-bd43c34ff0c6",
   "metadata": {},
   "source": [
    "### A quick test to see if the ... etc "
   ]
  },
  {
   "cell_type": "code",
   "execution_count": 2,
   "id": "7e2dfe36-b87e-4122-8250-e1aee7c85e3c",
   "metadata": {},
   "outputs": [],
   "source": [
    "from elasticsearch import Elasticsearch\n",
    "es = Elasticsearch(\"http://host.docker.internal:9200\") # Same port when running elasticsearch with docker"
   ]
  },
  {
   "cell_type": "code",
   "execution_count": 3,
   "id": "674ce9cf-9621-4733-be42-15ec8b914d2b",
   "metadata": {},
   "outputs": [
    {
     "name": "stderr",
     "output_type": "stream",
     "text": [
      "/tmp/ipykernel_27661/1768325765.py:1: ElasticsearchWarning: Elasticsearch built-in security features are not enabled. Without authentication, your cluster could be accessible to anyone. See https://www.elastic.co/guide/en/elasticsearch/reference/7.17/security-minimal-setup.html to enable security.\n",
      "  es.get(index=\"test\", id=1)\n"
     ]
    },
    {
     "data": {
      "text/plain": [
       "ObjectApiResponse({'_index': 'test', '_type': '_doc', '_id': '1', '_version': 608, '_seq_no': 608, '_primary_term': 1, 'found': True, '_source': {'user': ' 1TRUE_AMERICA', 'tweet': \" @Jim222001 I do though acknowledge the possibility of someone lying in testimony, under oath. So just because it's… https://t.co/AdhOlJDAJu\", 'date': ' Fri May 06 02:21:30 +0000 2022', 'lat': ' 36.2231079', 'lon': ' -121.3877428', 'hashtags': ' ', 'sentiment': ' 0', 'id': ' 992117141477339136'}})"
      ]
     },
     "execution_count": 3,
     "metadata": {},
     "output_type": "execute_result"
    }
   ],
   "source": [
    "es.get(index=\"test\", id=1)"
   ]
  },
  {
   "cell_type": "code",
   "execution_count": 5,
   "id": "6ce2f713-6c9b-4393-8072-3499995451bc",
   "metadata": {},
   "outputs": [
    {
     "name": "stderr",
     "output_type": "stream",
     "text": [
      "/tmp/ipykernel_27661/1768325765.py:1: ElasticsearchWarning: Elasticsearch built-in security features are not enabled. Without authentication, your cluster could be accessible to anyone. See https://www.elastic.co/guide/en/elasticsearch/reference/7.17/security-minimal-setup.html to enable security.\n",
      "  es.get(index=\"test\", id=1)\n"
     ]
    },
    {
     "data": {
      "text/plain": [
       "ObjectApiResponse({'_index': 'test', '_type': '_doc', '_id': '1', '_version': 618, '_seq_no': 618, '_primary_term': 1, 'found': True, '_source': {'user': ' CityReport', 'tweet': ' \"Fühlte mich so machtlos\": Heard: Depp missbrauchte mich mit Flaschen https://t.co/bYlcYTAHy7 https://t.co/J8q7ZI5vzc', 'date': ' Fri May 06 02:21:32 +0000 2022', 'lat': ' 52.4009309', 'lon': ' 13.0591397', 'hashtags': ' ', 'sentiment': ' 0', 'id': ' 718145940'}})"
      ]
     },
     "execution_count": 5,
     "metadata": {},
     "output_type": "execute_result"
    }
   ],
   "source": [
    "es.get(index=\"test\", id=1)"
   ]
  },
  {
   "cell_type": "code",
   "execution_count": null,
   "id": "18e9ca9c-1bc0-4709-af32-3113091bc7b8",
   "metadata": {},
   "outputs": [],
   "source": []
  }
 ],
 "metadata": {
  "kernelspec": {
   "display_name": "Python 3 (ipykernel)",
   "language": "python",
   "name": "python3"
  },
  "language_info": {
   "codemirror_mode": {
    "name": "ipython",
    "version": 3
   },
   "file_extension": ".py",
   "mimetype": "text/x-python",
   "name": "python",
   "nbconvert_exporter": "python",
   "pygments_lexer": "ipython3",
   "version": "3.9.10"
  }
 },
 "nbformat": 4,
 "nbformat_minor": 5
}
