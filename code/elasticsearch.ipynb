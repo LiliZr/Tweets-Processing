{
 "cells": [
  {
   "cell_type": "markdown",
   "id": "41a6682c-40ac-4a3d-95f6-d939f354082a",
   "metadata": {},
   "source": [
    "# Project\n",
    "## 3rd Notebook : Elasticsearch\n",
    "##### Students:\n",
    "* Lilia IZRI      (DS)\n",
    "* Yacine MOKHTARI (DS)\n",
    "* Alexandre COMBEAU (DS)\n",
    "\n",
    "##### Report\n",
    "[PENSER A METTRE UN LIEN ICI]\n"
   ]
  },
  {
   "cell_type": "markdown",
   "id": "a510cb17-e10b-47fa-8544-bd43c34ff0c6",
   "metadata": {},
   "source": [
    "### A quick test to see if the ... etc "
   ]
  },
  {
   "cell_type": "code",
   "execution_count": 12,
   "id": "488c24dc-eacc-4e63-ba59-1388678b49bf",
   "metadata": {},
   "outputs": [
    {
     "name": "stdout",
     "output_type": "stream",
     "text": [
      "Requirement already satisfied: elasticsearch_dsl in /opt/conda/lib/python3.9/site-packages (7.4.0)\n",
      "Requirement already satisfied: elasticsearch<8.0.0,>=7.0.0 in /opt/conda/lib/python3.9/site-packages (from elasticsearch_dsl) (7.17.3)\n",
      "Requirement already satisfied: python-dateutil in /opt/conda/lib/python3.9/site-packages (from elasticsearch_dsl) (2.8.2)\n",
      "Requirement already satisfied: six in /opt/conda/lib/python3.9/site-packages (from elasticsearch_dsl) (1.16.0)\n",
      "Requirement already satisfied: urllib3<2,>=1.21.1 in /opt/conda/lib/python3.9/site-packages (from elasticsearch<8.0.0,>=7.0.0->elasticsearch_dsl) (1.26.8)\n",
      "Requirement already satisfied: certifi in /opt/conda/lib/python3.9/site-packages (from elasticsearch<8.0.0,>=7.0.0->elasticsearch_dsl) (2021.10.8)\n"
     ]
    }
   ],
   "source": [
    "!pip install elasticsearch_dsl"
   ]
  },
  {
   "cell_type": "code",
   "execution_count": 1,
   "id": "7e2dfe36-b87e-4122-8250-e1aee7c85e3c",
   "metadata": {},
   "outputs": [],
   "source": [
    "from elasticsearch import Elasticsearch\n",
    "# from collections import Mapping\n",
    "from elasticsearch_dsl import Search\n",
    "\n",
    "\n",
    "# database (es)\n",
    "es = Elasticsearch(\"http://host.docker.internal:9200\") # Same port when running elasticsearch with docker\n",
    "# Search engine\n",
    "s = Search(using=es, index=\"test\")"
   ]
  },
  {
   "cell_type": "code",
   "execution_count": 90,
   "id": "674ce9cf-9621-4733-be42-15ec8b914d2b",
   "metadata": {},
   "outputs": [
    {
     "data": {
      "text/plain": [
       "{'_index': 'test',\n",
       " '_type': '_doc',\n",
       " '_id': '1',\n",
       " '_version': 15,\n",
       " '_seq_no': 14,\n",
       " '_primary_term': 6,\n",
       " 'found': True,\n",
       " '_source': {'user': ' PinkPeachJimin',\n",
       "  'tweet': ' RT @HailTheMighty: #AmberHeard  #AmberHeardlsALiar #amberheardisapsychopath #JusticeForJohnny #JusticeForJohnnyDeppVirginia2022  And she go…',\n",
       "  'date': ' Fri May 06 10:31:58 +0000 2022',\n",
       "  'lat': ' 44.933143',\n",
       "  'lon': ' 7.540121',\n",
       "  'hashtags': ' #AmberHeard #AmberHeardlsALiar #amberheardisapsychopath #JusticeForJohnny #JusticeForJohnnyDeppVirginia2022',\n",
       "  'sentiment': ' 0',\n",
       "  'id': ' 4761561913'}}"
      ]
     },
     "execution_count": 90,
     "metadata": {},
     "output_type": "execute_result"
    }
   ],
   "source": [
    "es.get(index=\"test\", id=1)"
   ]
  },
  {
   "cell_type": "code",
   "execution_count": 7,
   "id": "6ce2f713-6c9b-4393-8072-3499995451bc",
   "metadata": {},
   "outputs": [
    {
     "data": {
      "text/plain": [
       "{'_index': 'test',\n",
       " '_type': '_doc',\n",
       " '_id': '1',\n",
       " '_version': 15,\n",
       " '_seq_no': 14,\n",
       " '_primary_term': 6,\n",
       " 'found': True,\n",
       " '_source': {'user': ' PinkPeachJimin',\n",
       "  'tweet': ' RT @HailTheMighty: #AmberHeard  #AmberHeardlsALiar #amberheardisapsychopath #JusticeForJohnny #JusticeForJohnnyDeppVirginia2022  And she go…',\n",
       "  'date': ' Fri May 06 10:31:58 +0000 2022',\n",
       "  'lat': ' 44.933143',\n",
       "  'lon': ' 7.540121',\n",
       "  'hashtags': ' #AmberHeard #AmberHeardlsALiar #amberheardisapsychopath #JusticeForJohnny #JusticeForJohnnyDeppVirginia2022',\n",
       "  'sentiment': ' 0',\n",
       "  'id': ' 4761561913'}}"
      ]
     },
     "execution_count": 7,
     "metadata": {},
     "output_type": "execute_result"
    }
   ],
   "source": [
    "es.get(index=\"test\", id=1)"
   ]
  },
  {
   "cell_type": "code",
   "execution_count": 78,
   "id": "18e9ca9c-1bc0-4709-af32-3113091bc7b8",
   "metadata": {},
   "outputs": [],
   "source": [
    "resultat = s.query('match', user=\"PinkPeachJimin\").execute()\n"
   ]
  },
  {
   "cell_type": "code",
   "execution_count": 11,
   "id": "0a48dc7d-d8f7-46f7-aa5a-51002438877f",
   "metadata": {},
   "outputs": [
    {
     "name": "stdout",
     "output_type": "stream",
     "text": [
      " PinkPeachJimin\n",
      " MabellaMcqueen\n",
      " ZeinabOkei\n",
      " de_loyas\n",
      " SportsVeritus\n",
      " cruelnglorious\n",
      " martinatwt\n",
      " lvillar27\n",
      " SincerelyHills\n",
      " GT_LeighAsh1\n"
     ]
    }
   ],
   "source": [
    "resultat = s.execute()\n",
    "\n",
    "for hit in resultat:\n",
    "    print(hit.user)"
   ]
  },
  {
   "cell_type": "code",
   "execution_count": null,
   "id": "d9a90a12-c423-439f-8d42-47f397251844",
   "metadata": {},
   "outputs": [],
   "source": [
    "{\n",
    "  \"took\" : 3,\n",
    "  \"timed_out\" : false,\n",
    "  \"_shards\" : {\n",
    "    \"total\" : 1,\n",
    "    \"successful\" : 1,\n",
    "    \"skipped\" : 0,\n",
    "    \"failed\" : 0\n",
    "  },\n",
    "  \"hits\" : {\n",
    "    \"total\" : {\n",
    "      \"value\" : 16,\n",
    "      \"relation\" : \"eq\"\n",
    "    },\n",
    "    \"max_score\" : 1.0,\n",
    "    \"hits\" : [\n",
    "      {\n",
    "        \"_index\" : \"test\",\n",
    "        \"_type\" : \"_doc\",\n",
    "        \"_id\" : \"1\",\n",
    "        \"_score\" : 1.0,\n",
    "        \"_source\" : {\n",
    "          \"user\" : \" PinkPeachJimin\",\n",
    "          \"tweet\" : \" RT @HailTheMighty: #AmberHeard  #AmberHeardlsALiar #amberheardisapsychopath #JusticeForJohnny #JusticeForJohnnyDeppVirginia2022  And she go…\",\n",
    "          \"date\" : \" Fri May 06 10:31:58 +0000 2022\",\n",
    "          \"lat\" : \" 44.933143\",\n",
    "          \"lon\" : \" 7.540121\",\n",
    "          \"hashtags\" : \" #AmberHeard #AmberHeardlsALiar #amberheardisapsychopath #JusticeForJohnny #JusticeForJohnnyDeppVirginia2022\",\n",
    "          \"sentiment\" : \" 0\",\n",
    "          \"id\" : \" 4761561913\"\n",
    "        }\n",
    "      },\n",
    "      {\n",
    "        \"_index\" : \"test\",\n",
    "        \"_type\" : \"_doc\",\n",
    "        \"_id\" : \" 1094300202\",\n",
    "        \"_score\" : 1.0,\n",
    "        \"_source\" : {\n",
    "          \"user\" : \" MabellaMcqueen\",\n",
    "          \"tweet\" : \" RT @Johnnydepp_TH: ฝั่งเชียร์แอมเบอร์โควทกันไปเต็มเลยว่าป๋าดูหน้าตารู้สึกผิด หน้าตาเหมือนคนทำผิด อะ เป็น behavior expert กันหมด ละทีตอน beh…\",\n",
    "          \"date\" : \" Fri May 06 10:34:17 +0000 2022\",\n",
    "          \"lat\" : \" 14.8971921\",\n",
    "          \"lon\" : \" 100.83273\",\n",
    "          \"hashtags\" : \" \",\n",
    "          \"sentiment\" : \" 0\",\n",
    "          \"id\" : \" 1094300202\"\n",
    "        }\n",
    "      },\n",
    "      {\n",
    "        \"_index\" : \"test\",\n",
    "        \"_type\" : \"_doc\",\n",
    "        \"_id\" : \" 1458770090867011584\",\n",
    "        \"_score\" : 1.0,\n",
    "        \"_source\" : {\n",
    "          \"user\" : \" ZeinabOkei\",\n",
    "          \"tweet\" : \" RT @Knesix: [ NEW VIDEO ] After the judge denied her attorneys to dismiss the case, Amber Heard began to testify in Johnny Depp's defamatio…\",\n",
    "          \"date\" : \" Fri May 06 10:34:17 +0000 2022\",\n",
    "          \"lat\" : \" 44.933143\",\n",
    "          \"lon\" : \" 7.540121\",\n",
    "          \"hashtags\" : \" \",\n",
    "          \"sentiment\" : \" -1\",\n",
    "          \"id\" : \" 1458770090867011584\"\n",
    "        }\n",
    "      },\n",
    "      {\n",
    "        \"_index\" : \"test\",\n",
    "        \"_type\" : \"_doc\",\n",
    "        \"_id\" : \" 1409251863875055620\",\n",
    "        \"_score\" : 1.0,\n",
    "        \"_source\" : {\n",
    "          \"user\" : \" de_loyas\",\n",
    "          \"tweet\" : \" RT @AlexJam91754067: Amber Heard says Johnny Depp's jealousy toward James Franco was \\\"a nightmare.\\\" Here she is sneaking Franco into Johnny…\",\n",
    "          \"date\" : \" Fri May 06 10:34:18 +0000 2022\",\n",
    "          \"lat\" : \" 44.933143\",\n",
    "          \"lon\" : \" 7.540121\",\n",
    "          \"hashtags\" : \" \",\n",
    "          \"sentiment\" : \" 0\",\n",
    "          \"id\" : \" 1409251863875055620\"\n",
    "        }\n",
    "      },\n",
    "      {\n",
    "        \"_index\" : \"test\",\n",
    "        \"_type\" : \"_doc\",\n",
    "        \"_id\" : \" 1020329159879512065\",\n",
    "        \"_score\" : 1.0,\n",
    "        \"_source\" : {\n",
    "          \"user\" : \" SportsVeritus\",\n",
    "          \"tweet\" : \" Good of Johnny Depp to find time with his court battle going on to get a hundred for Surrey. #captjack https://t.co/t3HyYeykuz\",\n",
    "          \"date\" : \" Fri May 06 10:34:17 +0000 2022\",\n",
    "          \"lat\" : \" 52.2109495\",\n",
    "          \"lon\" : \" -2.156955513242221\",\n",
    "          \"hashtags\" : \" #captjack\",\n",
    "          \"sentiment\" : \" 1\",\n",
    "          \"id\" : \" 1020329159879512065\"\n",
    "        }\n",
    "      },\n",
    "      {\n",
    "        \"_index\" : \"test\",\n",
    "        \"_type\" : \"_doc\",\n",
    "        \"_id\" : \" 423441818\",\n",
    "        \"_score\" : 1.0,\n",
    "        \"_source\" : {\n",
    "          \"user\" : \" cruelnglorious\",\n",
    "          \"tweet\" : \" RT @AlexJam91754067: Amber Heard says Johnny Depp's jealousy toward James Franco was \\\"a nightmare.\\\" Here she is sneaking Franco into Johnny…\",\n",
    "          \"date\" : \" Fri May 06 10:34:19 +0000 2022\",\n",
    "          \"lat\" : \" 25.029422\",\n",
    "          \"lon\" : \" -77.36195598496681\",\n",
    "          \"hashtags\" : \" \",\n",
    "          \"sentiment\" : \" 0\",\n",
    "          \"id\" : \" 423441818\"\n",
    "        }\n",
    "      },\n",
    "      {\n",
    "        \"_index\" : \"test\",\n",
    "        \"_type\" : \"_doc\",\n",
    "        \"_id\" : \" 1155132492287860736\",\n",
    "        \"_score\" : 1.0,\n",
    "        \"_source\" : {\n",
    "          \"user\" : \" martinatwt\",\n",
    "          \"tweet\" : \" RT @emeka_ug: Before this trial I appreciated Johnny Depp as an actor. Now I appreciate him as a human being.\",\n",
    "          \"date\" : \" Fri May 06 10:34:19 +0000 2022\",\n",
    "          \"lat\" : \" 25.029422\",\n",
    "          \"lon\" : \" -77.36195598496681\",\n",
    "          \"hashtags\" : \" \",\n",
    "          \"sentiment\" : \" 1\",\n",
    "          \"id\" : \" 1155132492287860736\"\n",
    "        }\n",
    "      },\n",
    "      {\n",
    "        \"_index\" : \"test\",\n",
    "        \"_type\" : \"_doc\",\n",
    "        \"_id\" : \" 752709107455389696\",\n",
    "        \"_score\" : 1.0,\n",
    "        \"_source\" : {\n",
    "          \"user\" : \" lvillar27\",\n",
    "          \"tweet\" : \" RT @jdepps_crew: El equipo de Amber Heard reproduce 2 archivos de audio y reproduce uno que dice que Johnny Depp se va y que quiere tranqui…\",\n",
    "          \"date\" : \" Fri May 06 10:34:19 +0000 2022\",\n",
    "          \"lat\" : \" 44.933143\",\n",
    "          \"lon\" : \" 7.540121\",\n",
    "          \"hashtags\" : \" \",\n",
    "          \"sentiment\" : \" 0\",\n",
    "          \"id\" : \" 752709107455389696\"\n",
    "        }\n",
    "      },\n",
    "      {\n",
    "        \"_index\" : \"test\",\n",
    "        \"_type\" : \"_doc\",\n",
    "        \"_id\" : \" 297070331\",\n",
    "        \"_score\" : 1.0,\n",
    "        \"_source\" : {\n",
    "          \"user\" : \" SincerelyHills\",\n",
    "          \"tweet\" : \" RT @AlexJam91754067: Amber Heard says Johnny Depp's jealousy toward James Franco was \\\"a nightmare.\\\" Here she is sneaking Franco into Johnny…\",\n",
    "          \"date\" : \" Fri May 06 10:34:19 +0000 2022\",\n",
    "          \"lat\" : \" 51.5384287\",\n",
    "          \"lon\" : \" -0.0999051\",\n",
    "          \"hashtags\" : \" \",\n",
    "          \"sentiment\" : \" 0\",\n",
    "          \"id\" : \" 297070331\"\n",
    "        }\n",
    "      },\n",
    "      {\n",
    "        \"_index\" : \"test\",\n",
    "        \"_type\" : \"_doc\",\n",
    "        \"_id\" : \" 1291493877053087746\",\n",
    "        \"_score\" : 1.0,\n",
    "        \"_source\" : {\n",
    "          \"user\" : \" GT_LeighAsh1\",\n",
    "          \"tweet\" : \" RT @HLNTV: \\\"From the forehead to the nose, emotion flows.\\\" Body language expert points out where Johnny Depp's confusion &amp; disagreement com…\",\n",
    "          \"date\" : \" Fri May 06 10:34:20 +0000 2022\",\n",
    "          \"lat\" : \" 52.5310214\",\n",
    "          \"lon\" : \" -1.2649062\",\n",
    "          \"hashtags\" : \" \",\n",
    "          \"sentiment\" : \" 0\",\n",
    "          \"id\" : \" 1291493877053087746\"\n",
    "        }\n",
    "      }\n",
    "    ]\n",
    "  }\n",
    "}"
   ]
  }
 ],
 "metadata": {
  "kernelspec": {
   "display_name": "Python 3 (ipykernel)",
   "language": "python",
   "name": "python3"
  },
  "language_info": {
   "codemirror_mode": {
    "name": "ipython",
    "version": 3
   },
   "file_extension": ".py",
   "mimetype": "text/x-python",
   "name": "python",
   "nbconvert_exporter": "python",
   "pygments_lexer": "ipython3",
   "version": "3.9.10"
  }
 },
 "nbformat": 4,
 "nbformat_minor": 5
}
