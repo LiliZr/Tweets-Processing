{
 "cells": [
  {
   "cell_type": "markdown",
   "id": "1f325423-ca30-409b-9082-e89b276b4eb8",
   "metadata": {},
   "source": [
    "# Project - Apache Spark & Elastichsearch\n",
    "## 1st Notebook : Tweepy\n",
    "##### Students:\n",
    "* Lilia IZRI      (DS)\n",
    "* Yacine MOKHTARI (DS)\n",
    "* Alexandre COMBEAU (DS)\n",
    "\n",
    "##### Report\n",
    "[PENSER A METTRE UN LIEN ICI]\n"
   ]
  },
  {
   "cell_type": "code",
   "execution_count": 1,
   "id": "8a1fd91e-2b2c-4b20-a9d8-6a3bbc3b0820",
   "metadata": {},
   "outputs": [],
   "source": [
    "### Uncomment this to install the needed libraries\n",
    "# !pip install -r requirements.txt"
   ]
  },
  {
   "cell_type": "code",
   "execution_count": 2,
   "id": "bb7586ef-19a0-4749-a287-5f497046f635",
   "metadata": {},
   "outputs": [],
   "source": [
    "# Imports\n",
    "import tweepy\n",
    "from tweepy.auth import OAuthHandler\n",
    "from tweepy import Stream\n",
    "import socket\n",
    "import json\n",
    "from utils import get_location_by_address"
   ]
  },
  {
   "cell_type": "code",
   "execution_count": 3,
   "id": "d1f1f9ea-4fa8-41d4-9975-afea256f438d",
   "metadata": {},
   "outputs": [
    {
     "name": "stdout",
     "output_type": "stream",
     "text": [
      "Requirement already satisfied: elasticsearch_dsl in /opt/conda/lib/python3.9/site-packages (7.4.0)\n",
      "Requirement already satisfied: six in /opt/conda/lib/python3.9/site-packages (from elasticsearch_dsl) (1.16.0)\n",
      "Requirement already satisfied: elasticsearch<8.0.0,>=7.0.0 in /opt/conda/lib/python3.9/site-packages (from elasticsearch_dsl) (7.17.3)\n",
      "Requirement already satisfied: python-dateutil in /opt/conda/lib/python3.9/site-packages (from elasticsearch_dsl) (2.8.2)\n",
      "Requirement already satisfied: certifi in /opt/conda/lib/python3.9/site-packages (from elasticsearch<8.0.0,>=7.0.0->elasticsearch_dsl) (2021.10.8)\n",
      "Requirement already satisfied: urllib3<2,>=1.21.1 in /opt/conda/lib/python3.9/site-packages (from elasticsearch<8.0.0,>=7.0.0->elasticsearch_dsl) (1.26.8)\n"
     ]
    }
   ],
   "source": [
    "!pip install elasticsearch_dsl"
   ]
  },
  {
   "cell_type": "code",
   "execution_count": 4,
   "id": "5c05ae90-3450-4f54-916f-b5b14d6d0aed",
   "metadata": {},
   "outputs": [],
   "source": [
    "from elasticsearch_dsl import Search"
   ]
  },
  {
   "cell_type": "code",
   "execution_count": 5,
   "id": "214789eb-0453-4949-9b97-7924f2266c5f",
   "metadata": {},
   "outputs": [],
   "source": [
    "import elasticsearch"
   ]
  },
  {
   "cell_type": "code",
   "execution_count": 6,
   "id": "ec53e0a8-deca-47fc-87a1-b71acdce3169",
   "metadata": {},
   "outputs": [
    {
     "data": {
      "text/plain": [
       "(7, 17, 3)"
      ]
     },
     "execution_count": 6,
     "metadata": {},
     "output_type": "execute_result"
    }
   ],
   "source": [
    "elasticsearch.__version__"
   ]
  },
  {
   "cell_type": "markdown",
   "id": "1ba429eb-0b37-4a89-bebb-e5bd4c4a5227",
   "metadata": {},
   "source": [
    "## I. Processing Twitter as a Stream"
   ]
  },
  {
   "cell_type": "markdown",
   "id": "feb8675b-c9b5-4d3e-b7b3-e49a43eb3db1",
   "metadata": {},
   "source": [
    "### 1. Settings : Insert Twitter developer credentials"
   ]
  },
  {
   "cell_type": "code",
   "execution_count": 7,
   "id": "dec530f0-0033-414a-a49a-05c8167ac411",
   "metadata": {},
   "outputs": [],
   "source": [
    "# KEYS (Remarque mdr c'est des clés que j'ai trouvées sur un site 🤷🏻‍♀️)\n",
    "consumer_key    = '3XwgFgsXucaFXOrkZtlwvxV5O'\n",
    "consumer_secret = 'LNnTcxibKalylVImljDsKfkRqb6WHD8I7hdSYt7Pm7VaCetqZm'\n",
    "access_token    = '608048932-AM21gcwLORlm5j0514DwPL850byLb7Gs04bPZ6Mn'\n",
    "access_secret   = 'QtnJ8mV75peV7L7Kd4DZKogMRIxzjk5XFOPtZiz62NoM3'"
   ]
  },
  {
   "cell_type": "markdown",
   "id": "a1ded8fb-bca3-46a4-b87f-ef9d561d341b",
   "metadata": {},
   "source": [
    "### 2. Creating a new listener class"
   ]
  },
  {
   "cell_type": "code",
   "execution_count": 8,
   "id": "3d614664-ece1-42fe-9533-0cdf573bfff8",
   "metadata": {},
   "outputs": [],
   "source": [
    "# Class that represents our Listener\n",
    "class TweetsListener(Stream):\n",
    "    \n",
    "    def __init__(self, *args, csocket):\n",
    "        super().__init__(*args)\n",
    "        self.client_socket = csocket\n",
    "    def on_data(self, data):\n",
    "        \"\"\"\n",
    "        Here, we extract these fields : \n",
    "            - .... \n",
    "        \"\"\"\n",
    "        try:\n",
    "            ### Extracting interesting fields (text, username and date)\n",
    "            tweet = json.loads( data )\n",
    "            text = tweet['text']\n",
    "            user = tweet['user']['screen_name']\n",
    "            date = tweet['created_at']\n",
    "            \n",
    "            ### Handle hashtags (we join the list by adding '#' and separate them by a space ' '\n",
    "            list_hashtags = tweet['entities']['hashtags']\n",
    "            hashtags = \" \".join(['#' + i['text' ] for i in list_hashtags]) if list_hashtags is not [] else \"\"\n",
    "            \n",
    "            ### Handle the location \n",
    "            location = get_location_by_address(tweet['user']['location']) \n",
    "            latitude, longitude = location if location is not None else get_location_by_address('Unknown')\n",
    "            print(latitude, longitude)\n",
    "            \n",
    "            ###  We combine data and metadata to send them \n",
    "            #  We add a key ###:field:### so we can split the fields easily \n",
    "            #  We remove '\\n' from a tweet and put one '\\n' between tweets \n",
    "            tweet_info = (\" ###:field:### user: \" + user      + \" ###:field:### tweet: \"    + text +\\\n",
    "                          \" ###:field:### date: \" + date      + \" ###:field:### lat: \"      + latitude + \\\n",
    "                          \" ###:field:### lon: \"  + longitude + \" ###:field:### hashtags: \" + hashtags + \\\n",
    "                          \" ###:field:### id: \"+ tweet['user']['id_str']\n",
    "                          ).replace('\\n', ' ') + '\\n'\n",
    "            \n",
    "            ### Uncomment to see the string we pass through the TCP port\n",
    "            # print(tweet_info)\n",
    "            \n",
    "            ### Send to socket : We convert this tweet into a bite code (since spark takes easily this kind of data)\n",
    "            self.client_socket.send(tweet_info.encode('utf-8'))\n",
    "            return True\n",
    "        except BaseException as e:\n",
    "            print(\"Error on_data: %s\" % str(e))\n",
    "        return True\n",
    "\n",
    "    # Handle errors\n",
    "    def if_error(self, status):\n",
    "        print(status)\n",
    "        return True"
   ]
  },
  {
   "cell_type": "markdown",
   "id": "12b87689-7fb6-4900-90e4-a8b713a2cb53",
   "metadata": {},
   "source": [
    "The method that captures these tweets in spark (```socketTextStream(port..)```) will concider a text containing a single \"\\n\" as two different entries. <br>\n",
    "Since we don't want the same tweet to be separated in two differents RDDs, we replace each '\\n' by a simple space ' '"
   ]
  },
  {
   "cell_type": "markdown",
   "id": "afce058b-ffe7-446c-b2cf-11e1f47910cc",
   "metadata": {},
   "source": [
    "###  3. Authenticate our connection using the pre-defined credentials \n",
    "In order to begin streaming, we have to implement a function that allows us to authenticate our connection"
   ]
  },
  {
   "cell_type": "code",
   "execution_count": 9,
   "id": "29af06e5-8b65-4d5d-91a6-d4691cc33147",
   "metadata": {},
   "outputs": [],
   "source": [
    "def send_tweets(c_socket):\n",
    "    \"\"\"\n",
    "        Send tweets to client socket (in our case ✨SPARK✨)\n",
    "    \"\"\"\n",
    "    twtr_stream = TweetsListener(\n",
    "        consumer_key, consumer_secret,\n",
    "        access_token, access_secret,\n",
    "        csocket=c_socket\n",
    "    )\n",
    "    twtr_stream.filter(track=['depp'])#, 'depp', 'macron', 'covid', 'ukraine', 'heard', 'yoda', 'thread', 'sport'])"
   ]
  },
  {
   "cell_type": "markdown",
   "id": "a866ea86-29c1-4038-bdf9-b9f7a02e0970",
   "metadata": {},
   "source": [
    "###  4. Testing connection with client (Spark)\n",
    "The second step would be to pass the collected tweets to Spark. A way to do that, is to send them in a TCP/socket (that would be the entry point of Spark Streaming)"
   ]
  },
  {
   "cell_type": "code",
   "execution_count": 10,
   "id": "91dfef35-9241-4c7a-91aa-077dbe8bc603",
   "metadata": {},
   "outputs": [],
   "source": [
    "new_skt = socket.socket()         # initiate a socket object\n",
    "host = \"127.0.0.1\"                # address host\n",
    "port = 5567                       # specifie port \n",
    "new_skt.bind((host, port))        # Binding host and port"
   ]
  },
  {
   "cell_type": "code",
   "execution_count": null,
   "id": "62b8ee64-96a6-4bf0-9719-4576e8e06611",
   "metadata": {},
   "outputs": [
    {
     "name": "stdout",
     "output_type": "stream",
     "text": [
      "Now listening on port: 5567\n",
      "Received request from: ('127.0.0.1', 32874)\n",
      "44.933143 7.540121\n",
      "38.8950368 -77.0365427\n",
      "44.933143 7.540121\n",
      "44.933143 7.540121\n",
      "44.933143 7.540121\n",
      "25.029422 -77.36195598496681\n",
      "39.7837304 -100.445882\n",
      "44.933143 7.540121\n",
      "6.4550575 3.3941795\n",
      "-23.3165935 -58.1693445\n",
      "13.7525438 100.4934734\n",
      "35.5417773 139.6902941\n",
      "53.2744122 -9.0490601\n",
      "31.5313113 34.8667654\n",
      "25.029422 -77.36195598496681\n",
      "18.19897685 -66.26152219418967\n",
      "25.029422 -77.36195598496681\n",
      "40.4567681 29.1226422\n",
      "30.3674198 -89.0928155\n",
      "25.029422 -77.36195598496681\n",
      "32.06854705 76.24336792335127\n",
      "44.933143 7.540121\n",
      "44.933143 7.540121\n",
      "44.933143 7.540121\n",
      "45.8133113 14.4808369\n",
      "44.933143 7.540121\n",
      "44.933143 7.540121\n",
      "25.029422 -77.36195598496681\n",
      "51.06269775 -2.0643693810297052\n",
      "44.933143 7.540121\n",
      "44.933143 7.540121\n",
      "-34.9964963 -64.9672817\n",
      "44.933143 7.540121\n",
      "44.933143 7.540121\n",
      "44.933143 7.540121\n",
      "44.933143 7.540121\n",
      "40.002409650000004 -75.13936369909273\n",
      "44.933143 7.540121\n",
      "33.6874388 -80.4363743\n",
      "51.5073219 -0.1276474\n",
      "44.933143 7.540121\n",
      "44.933143 7.540121\n",
      "25.029422 -77.36195598496681\n",
      "52.24764975 5.541246849406163\n",
      "44.933143 7.540121\n",
      "27.6886419 -82.5723193\n",
      "44.933143 7.540121\n",
      "52.5310214 -1.2649062\n",
      "38.8339578 -104.825348\n",
      "44.933143 7.540121\n",
      "44.933143 7.540121\n",
      "-27.4689682 153.0234991\n",
      "30.3308401 71.247499\n",
      "54.5859836 -6.9591554\n",
      "53.470494 -2.3843641\n",
      "25.029422 -77.36195598496681\n",
      "44.933143 7.540121\n",
      "25.029422 -77.36195598496681\n",
      "44.933143 7.540121\n",
      "40.4167047 -3.7035825\n",
      "39.7837304 -100.445882\n",
      "44.933143 7.540121\n",
      "44.933143 7.540121\n",
      "44.933143 7.540121\n",
      "40.1208026 -75.344984\n",
      "44.933143 7.540121\n",
      "52.2298583 21.0200755\n",
      "53.3497645 -6.2602732\n",
      "20.18371 104.25564\n",
      "44.933143 7.540121\n",
      "36.7014631 -118.755997\n",
      "25.029422 -77.36195598496681\n",
      "37.532764 126.832397\n",
      "44.933143 7.540121\n",
      "25.029422 -77.36195598496681\n",
      "44.933143 7.540121\n",
      "44.933143 7.540121\n",
      "25.029422 -77.36195598496681\n",
      "44.933143 7.540121\n",
      "44.933143 7.540121\n",
      "44.933143 7.540121\n",
      "38.9597594 34.9249653\n",
      "52.5310214 -1.2649062\n",
      "-1.2832533 36.8172449\n",
      "52.2298583 21.0200755\n",
      "44.933143 7.540121\n",
      "44.933143 7.540121\n",
      "44.933143 7.540121\n",
      "44.933143 7.540121\n",
      "-1.2832533 36.8172449\n",
      "25.029422 -77.36195598496681\n",
      "44.933143 7.540121\n",
      "22.3511148 78.6677428\n",
      "44.933143 7.540121\n",
      "44.933143 7.540121\n",
      "52.5310214 -1.2649062\n",
      "44.933143 7.540121\n",
      "2.2301451 102.2453068\n",
      "44.933143 7.540121\n",
      "40.7127281 -74.0060152\n",
      "-33.8698439 151.2082848\n",
      "50.40042335 5.605826139556402\n",
      "25.029422 -77.36195598496681\n",
      "36.7014631 -118.755997\n",
      "44.933143 7.540121\n",
      "50.000678 -86.000977\n",
      "44.933143 7.540121\n",
      "44.933143 7.540121\n",
      "46.603354 1.8883335\n",
      "44.933143 7.540121\n",
      "51.5073219 -0.1276474\n",
      "39.5162234 -76.9382069\n",
      "44.933143 7.540121\n",
      "44.933143 7.540121\n",
      "44.933143 7.540121\n",
      "55.9533456 -3.1883749\n",
      "44.933143 7.540121\n",
      "44.933143 7.540121\n",
      "44.933143 7.540121\n",
      "48.8588897 2.3200410217200766\n",
      "38.5810606 -121.493895\n",
      "44.933143 7.540121\n",
      "51.8896903 0.8994651\n",
      "44.933143 7.540121\n",
      "44.933143 7.540121\n",
      "54.7023545 -3.2765753\n",
      "25.029422 -77.36195598496681\n",
      "44.933143 7.540121\n",
      "44.933143 7.540121\n",
      "52.2298583 21.0200755\n",
      "44.841225 -0.5800364\n",
      "44.933143 7.540121\n",
      "48.5923162 8.150851\n",
      "25.029422 -77.36195598496681\n",
      "47.4979937 19.0403594\n",
      "40.7127281 -74.0060152\n",
      "44.933143 7.540121\n",
      "44.933143 7.540121\n",
      "33.813651199999995 -117.91973507032726\n",
      "36.9009641 30.6954846\n",
      "54.7023545 -3.2765753\n",
      "40.7640788 29.9332788\n",
      "52.996240099999994 7.001434882926471\n",
      "44.933143 7.540121\n",
      "53.470494 -2.3843641\n",
      "44.933143 7.540121\n",
      "44.933143 7.540121\n",
      "44.933143 7.540121\n",
      "34.2331373 -102.4107493\n",
      "44.933143 7.540121\n",
      "44.933143 7.540121\n",
      "52.5310214 -1.2649062\n",
      "51.5073219 -0.1276474\n",
      "44.933143 7.540121\n",
      "44.933143 7.540121\n",
      "37.8107105 -122.2462731\n",
      "44.933143 7.540121\n",
      "44.933143 7.540121\n",
      "33.924831 -118.2024154\n",
      "27.4989278 -82.5748194\n",
      "44.933143 7.540121\n",
      "25.029422 -77.36195598496681\n",
      "32.9163245 130.6265176\n",
      "41.5217603 -73.9265262\n",
      "44.933143 7.540121\n",
      "41.0249053 29.0175283\n",
      "Error on_data: [Errno 32] Broken pipe\n",
      "46.603354 1.8883335\n",
      "Error on_data: [Errno 32] Broken pipe\n"
     ]
    }
   ],
   "source": [
    "print(f\"Now listening on port: {port}\")\n",
    "new_skt.listen(5)                 # waiting for client connection\n",
    "c, addr = new_skt.accept()        # Establish connection with client\n",
    "\n",
    "print(f\"Received request from: {addr}\")\n",
    "send_tweets(c)                    # send tweets to client socket"
   ]
  },
  {
   "cell_type": "code",
   "execution_count": null,
   "id": "cbccd5ca-33db-4997-b90b-85207a0a8e35",
   "metadata": {},
   "outputs": [],
   "source": []
  },
  {
   "cell_type": "code",
   "execution_count": null,
   "id": "aee3ce4a-d7c1-4267-9c27-f7cc800a00db",
   "metadata": {},
   "outputs": [],
   "source": []
  },
  {
   "cell_type": "code",
   "execution_count": null,
   "id": "1f478d48-2f17-4080-b65f-b60b0ed92d18",
   "metadata": {},
   "outputs": [],
   "source": []
  },
  {
   "cell_type": "code",
   "execution_count": null,
   "id": "a0b70373-bcec-4751-ab3a-2cb189d4bcf2",
   "metadata": {},
   "outputs": [],
   "source": []
  },
  {
   "cell_type": "code",
   "execution_count": null,
   "id": "ca2f69d6-de6b-4f12-8b79-804f3906cad1",
   "metadata": {},
   "outputs": [],
   "source": []
  },
  {
   "cell_type": "code",
   "execution_count": null,
   "id": "a5effba6-00a2-49d9-aba6-324d6553e14d",
   "metadata": {},
   "outputs": [],
   "source": []
  }
 ],
 "metadata": {
  "kernelspec": {
   "display_name": "Python 3 (ipykernel)",
   "language": "python",
   "name": "python3"
  },
  "language_info": {
   "codemirror_mode": {
    "name": "ipython",
    "version": 3
   },
   "file_extension": ".py",
   "mimetype": "text/x-python",
   "name": "python",
   "nbconvert_exporter": "python",
   "pygments_lexer": "ipython3",
   "version": "3.9.10"
  }
 },
 "nbformat": 4,
 "nbformat_minor": 5
}
