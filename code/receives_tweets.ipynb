{
 "cells": [
  {
   "cell_type": "markdown",
   "id": "1f325423-ca30-409b-9082-e89b276b4eb8",
   "metadata": {},
   "source": [
    "# Project - Apache Spark & Elastichsearch\n",
    "\n",
    "##### Students:\n",
    "* Lilia IZRI      (DS)\n",
    "* Yacine MOKHTARI (DS)\n",
    "* Alexandre COMBEAU (DS)\n",
    "\n",
    "##### Report\n",
    "[PENSER A METTRE UN LIEN ICI]\n"
   ]
  },
  {
   "cell_type": "code",
   "execution_count": 2,
   "id": "1568bf0e-bf44-469d-94e8-00a82ffcb276",
   "metadata": {},
   "outputs": [
    {
     "name": "stdout",
     "output_type": "stream",
     "text": [
      "Collecting tweepy\n",
      "  Downloading tweepy-4.8.0-py2.py3-none-any.whl (77 kB)\n",
      "\u001b[2K     \u001b[90m━━━━━━━━━━━━━━━━━━━━━━━━━━━━━━━━━━━━━━━━\u001b[0m \u001b[32m77.4/77.4 KB\u001b[0m \u001b[31m1.2 MB/s\u001b[0m eta \u001b[36m0:00:00\u001b[0ma \u001b[36m0:00:01\u001b[0m\n",
      "\u001b[?25hRequirement already satisfied: oauthlib<4,>=3.2.0 in /opt/conda/lib/python3.9/site-packages (from tweepy) (3.2.0)\n",
      "Requirement already satisfied: requests<3,>=2.27.0 in /opt/conda/lib/python3.9/site-packages (from tweepy) (2.27.1)\n",
      "Collecting requests-oauthlib<2,>=1.2.0\n",
      "  Downloading requests_oauthlib-1.3.1-py2.py3-none-any.whl (23 kB)\n",
      "Requirement already satisfied: certifi>=2017.4.17 in /opt/conda/lib/python3.9/site-packages (from requests<3,>=2.27.0->tweepy) (2021.10.8)\n",
      "Requirement already satisfied: charset-normalizer~=2.0.0 in /opt/conda/lib/python3.9/site-packages (from requests<3,>=2.27.0->tweepy) (2.0.12)\n",
      "Requirement already satisfied: urllib3<1.27,>=1.21.1 in /opt/conda/lib/python3.9/site-packages (from requests<3,>=2.27.0->tweepy) (1.26.8)\n",
      "Requirement already satisfied: idna<4,>=2.5 in /opt/conda/lib/python3.9/site-packages (from requests<3,>=2.27.0->tweepy) (3.3)\n",
      "Installing collected packages: requests-oauthlib, tweepy\n",
      "Successfully installed requests-oauthlib-1.3.1 tweepy-4.8.0\n",
      "Note: you may need to restart the kernel to use updated packages.\n"
     ]
    }
   ],
   "source": [
    "pip install tweepy"
   ]
  },
  {
   "cell_type": "code",
   "execution_count": 3,
   "id": "bb7586ef-19a0-4749-a287-5f497046f635",
   "metadata": {},
   "outputs": [],
   "source": [
    "# Imports\n",
    "import tweepy\n",
    "from tweepy.auth import OAuthHandler\n",
    "from tweepy import Stream\n",
    "import socket\n",
    "import json"
   ]
  },
  {
   "cell_type": "markdown",
   "id": "1ba429eb-0b37-4a89-bebb-e5bd4c4a5227",
   "metadata": {},
   "source": [
    "## I. Processing Twitter as a Stream"
   ]
  },
  {
   "cell_type": "markdown",
   "id": "feb8675b-c9b5-4d3e-b7b3-e49a43eb3db1",
   "metadata": {},
   "source": [
    "### 1. Settings : Insert Twitter developer credentials"
   ]
  },
  {
   "cell_type": "code",
   "execution_count": 4,
   "id": "dec530f0-0033-414a-a49a-05c8167ac411",
   "metadata": {},
   "outputs": [],
   "source": [
    "# KEYS (Remarque mdr c'est des clés que j'ai trouvées sur un site 🤷🏻‍♀️)\n",
    "consumer_key    = '3XwgFgsXucaFXOrkZtlwvxV5O'\n",
    "consumer_secret = 'LNnTcxibKalylVImljDsKfkRqb6WHD8I7hdSYt7Pm7VaCetqZm'\n",
    "access_token    = '608048932-AM21gcwLORlm5j0514DwPL850byLb7Gs04bPZ6Mn'\n",
    "access_secret   = 'QtnJ8mV75peV7L7Kd4DZKogMRIxzjk5XFOPtZiz62NoM3'"
   ]
  },
  {
   "cell_type": "markdown",
   "id": "a1ded8fb-bca3-46a4-b87f-ef9d561d341b",
   "metadata": {},
   "source": [
    "### 2. Creating a new listener class"
   ]
  },
  {
   "cell_type": "code",
   "execution_count": 5,
   "id": "3d614664-ece1-42fe-9533-0cdf573bfff8",
   "metadata": {},
   "outputs": [],
   "source": [
    "# Class that represents our Listener\n",
    "class TweetsListener(Stream):\n",
    "\n",
    "    def __init__(self, *args, csocket):\n",
    "        super().__init__(*args)\n",
    "        self.client_socket = csocket\n",
    "    def on_data(self, data):\n",
    "        try:\n",
    "            # Extracting interesting fields\n",
    "            tweet = json.loads( data )\n",
    "            text = tweet['text']\n",
    "            user = tweet['user']['screen_name']\n",
    "            location = tweet['user']['location'] if tweet['user']['location'] is not None else 'Unknown'\n",
    "            date = tweet['created_at']\n",
    "            \n",
    "            # Handle hashtags (we join the list by adding '#' and separate them by a space ' '\n",
    "            list_hashtags = tweet['entities']['hashtags']\n",
    "            hashtags = \" \".join(['#' + i['text' ] for i in list_hashtags]) if list_hashtags is not [] else \"\"\n",
    "            \n",
    "            \n",
    "            # We combine data and metadata to send them \n",
    "            #  We add a key ###field:### so we can split the fields easily \n",
    "            #  We remove '\\n' from a tweet and put one '\\n' between tweets \n",
    "            tweet_info = (\" ###:field:### user: \" + user + \" ###:field:### tweet: \" + text +\\\n",
    "                          \" ###:field:### date: \" + date + \" ###:field:### location: \" + location + \\\n",
    "                          \" ###:field:### hashtags: \" + hashtags \n",
    "                          ).replace('\\n', ' ') + '\\n'\n",
    "            \n",
    "            print(tweet['user']['location'])\n",
    "            print(tweet_info)\n",
    "            \n",
    "            # Send to socket\n",
    "            self.client_socket.send(tweet_info.encode('utf-8'))\n",
    "            return True\n",
    "        except BaseException as e:\n",
    "            print(\"Error on_data: %s\" % str(e))\n",
    "        return True\n",
    "\n",
    "    # Handle errors\n",
    "    def if_error(self, status):\n",
    "        print(status)\n",
    "        return True"
   ]
  },
  {
   "cell_type": "markdown",
   "id": "afce058b-ffe7-446c-b2cf-11e1f47910cc",
   "metadata": {},
   "source": [
    "###  3. Authenticate our connection using the pre-defined credentials\n",
    "In order to begin streaming, we have to make sure to authenticate this connection"
   ]
  },
  {
   "cell_type": "code",
   "execution_count": 6,
   "id": "29af06e5-8b65-4d5d-91a6-d4691cc33147",
   "metadata": {},
   "outputs": [],
   "source": [
    "def send_tweets(c_socket):\n",
    "    \"\"\"\n",
    "        Send tweets to client socket (in our case ✨SPARK✨)\n",
    "    \"\"\"\n",
    "    twtr_stream = TweetsListener(\n",
    "        consumer_key, consumer_secret,\n",
    "        access_token, access_secret,\n",
    "        csocket=c_socket\n",
    "    )\n",
    "    twtr_stream.filter(track=['Depp'])"
   ]
  },
  {
   "cell_type": "markdown",
   "id": "a866ea86-29c1-4038-bdf9-b9f7a02e0970",
   "metadata": {},
   "source": [
    "###  4. Testing connection with client (Spark)\n",
    "In order to begin streaming, we have to make sure to authenticate this connection"
   ]
  },
  {
   "cell_type": "code",
   "execution_count": 7,
   "id": "91dfef35-9241-4c7a-91aa-077dbe8bc603",
   "metadata": {},
   "outputs": [],
   "source": [
    "new_skt = socket.socket()         # initiate a socket object\n",
    "host = \"127.0.0.1\"                # address host\n",
    "port = 5552                       # specifie port \n",
    "new_skt.bind((host, port))        # Binding host and port"
   ]
  },
  {
   "cell_type": "code",
   "execution_count": null,
   "id": "62b8ee64-96a6-4bf0-9719-4576e8e06611",
   "metadata": {},
   "outputs": [
    {
     "name": "stdout",
     "output_type": "stream",
     "text": [
      "Now listening on port: 5552\n",
      "Received request from: ('127.0.0.1', 42918)\n",
      "US\n",
      " ###:field:### user: AcidKritana ###:field:### tweet: RT @internationalm: #AmberTurd is a liar: the makeup brand she claimed to use to cover her bruises? Didn't hit the shelves til AFTER her al… ###:field:### date: Sun May 01 19:14:00 +0000 2022 ###:field:### location: US ###:field:### hashtags: #AmberTurd\n",
      "\n",
      "None\n",
      " ###:field:### user: Eza50295396 ###:field:### tweet: RT @lnfosSeriesFR: #PHOTOS Nouveau photoshoot de Johnny Depp pour Dior https://t.co/lUWiAXAaF1 ###:field:### date: Sun May 01 19:14:00 +0000 2022 ###:field:### location: Unknown ###:field:### hashtags: #PHOTOS\n",
      "\n",
      "Champions du monde\n",
      " ###:field:### user: jmikaelson_ ###:field:### tweet: RT @SeriesUpdateFR: Johnny Depp pour Dior.💜 https://t.co/FjasVflKJW ###:field:### date: Sun May 01 19:14:01 +0000 2022 ###:field:### location: Champions du monde ###:field:### hashtags: \n",
      "\n",
      "بلد الخواجة في احلامي\n",
      " ###:field:### user: mo_o7amed_ ###:field:### tweet: دا افضل محامي ممكن نتمناه ل امبر، عرص  وحيخسرها بيرفكتو ###:field:### date: Sun May 01 19:14:01 +0000 2022 ###:field:### location: بلد الخواجة في احلامي ###:field:### hashtags: \n",
      "\n",
      "None\n",
      " ###:field:### user: SofaAssoc ###:field:### tweet: @DrewBarrymoreTV  Although it is undoubtedly entertaining in an unfortunate way, like someone slipping on a banana… https://t.co/kki2tl2IPn ###:field:### date: Sun May 01 19:14:01 +0000 2022 ###:field:### location: Unknown ###:field:### hashtags: \n",
      "\n",
      "she/her\n",
      " ###:field:### user: yerisbp ###:field:### tweet: RT @___inCANdescent: The way women are acting over this case is embarrassing ###:field:### date: Sun May 01 19:14:02 +0000 2022 ###:field:### location: she/her ###:field:### hashtags: \n",
      "\n",
      "Türkiye\n",
      " ###:field:### user: jjohnny_d ###:field:### tweet: TRIAL 10/ 26.04.22 Johnny Depp, mahkeme içinden :  (Part 3) https://t.co/35Ixq1PY95 ###:field:### date: Sun May 01 19:14:02 +0000 2022 ###:field:### location: Türkiye ###:field:### hashtags: \n",
      "\n",
      "None\n",
      " ###:field:### user: Savage_sadkidd ###:field:### tweet: RT @WrittenByHanna: Anthony Anderson has been accused of rape by multiple women ###:field:### date: Sun May 01 19:14:02 +0000 2022 ###:field:### location: Unknown ###:field:### hashtags: \n",
      "\n",
      "💓bell\n",
      " ###:field:### user: xotaeny856 ###:field:### tweet: RT @waiibearbie: ในวันที่คนอื่นหันหลังให้ Johnny Depp ก็ยังมี Dior ที่ไม่ไปไหน อยากอุดหนุน Sauvage ก็เพราะแบบนี้ https://t.co/Bjip0AXbT7 ###:field:### date: Sun May 01 19:14:02 +0000 2022 ###:field:### location: 💓bell ###:field:### hashtags: \n",
      "\n",
      "México\n",
      " ###:field:### user: Sr_Pitochi ###:field:### tweet: RT @JorgeGarcesMx: POV: Eres Johnny Depp llegando a tu habitación https://t.co/J3guXAFXr7 ###:field:### date: Sun May 01 19:14:02 +0000 2022 ###:field:### location: México ###:field:### hashtags: \n",
      "\n",
      "France \n",
      " ###:field:### user: GTSAJ ###:field:### tweet: RT @SeriesUpdateFR: Johnny Depp pour Dior.💜 https://t.co/FjasVflKJW ###:field:### date: Sun May 01 19:14:02 +0000 2022 ###:field:### location: France  ###:field:### hashtags: \n",
      "\n",
      "Ccs, Venezuela\n",
      " ###:field:### user: AndresNacc ###:field:### tweet: RT @JuanitoSay: WTF?! ¿Se están riendo de dos personas en un juicio contando lo peor que les pasó en sus vidas? Otra vez digo lo mismo, se… ###:field:### date: Sun May 01 19:14:04 +0000 2022 ###:field:### location: Ccs, Venezuela ###:field:### hashtags: \n",
      "\n",
      "None\n",
      " ###:field:### user: Slowasasloth ###:field:### tweet: RT @tasteofsanity: Amber Heard sold an edited video of Johnny Depp slamming cabinets to TMZ and the whole world instantly took her side.… ###:field:### date: Sun May 01 19:14:05 +0000 2022 ###:field:### location: Unknown ###:field:### hashtags: \n",
      "\n",
      "None\n",
      " ###:field:### user: haileeraestout ###:field:### tweet: RT @GellertDepp: I don’t think there’s anything that better explains Amber Heard than than “a source” (Fartlow) thinking that saying “to be… ###:field:### date: Sun May 01 19:14:05 +0000 2022 ###:field:### location: Unknown ###:field:### hashtags: \n",
      "\n",
      "None\n",
      " ###:field:### user: fany_ragut ###:field:### tweet: RT @ThatUmbrella: Your reminder that Court TV manipulated evidence to make Johnny Depp look like the physically attacked Amber Heard.   Sto… ###:field:### date: Sun May 01 19:14:06 +0000 2022 ###:field:### location: Unknown ###:field:### hashtags: \n",
      "\n",
      "Boulder, CO\n",
      " ###:field:### user: kalebishop ###:field:### tweet: RT @NBedera: The Depp Discourse has been a good reminder that most people don't know anything about how to evaluate evidence in a gender-ba… ###:field:### date: Sun May 01 19:14:06 +0000 2022 ###:field:### location: Boulder, CO ###:field:### hashtags: \n",
      "\n",
      "Ελλάς\n",
      " ###:field:### user: SteliosTw ###:field:### tweet: RT @commonsense491: Η πρώην γυναίκα του Johnie Depp τον απείλησε ότι κανένας δεν θα πιστέψει ότι ένας διάσημος λευκός άνδρας είναι θύμα ενδ… ###:field:### date: Sun May 01 19:14:06 +0000 2022 ###:field:### location: Ελλάς ###:field:### hashtags: \n",
      "\n",
      "None\n",
      " ###:field:### user: thembello ###:field:### tweet: RT @MeghansMole: Anthony Anderson has a history of sexual assault allegations..&amp; Drew Barrymore has a shit past  But here they are making f… ###:field:### date: Sun May 01 19:14:06 +0000 2022 ###:field:### location: Unknown ###:field:### hashtags: \n",
      "\n",
      "United Kingdom\n",
      " ###:field:### user: LizzieBillingt1 ###:field:### tweet: RT @NBedera: Despite the Internet flurry about the Depp case, it's important to remember what's at stake:  A man is suing for defamation be… ###:field:### date: Sun May 01 19:14:07 +0000 2022 ###:field:### location: United Kingdom ###:field:### hashtags: \n",
      "\n",
      "Goiânia, Brasil\n",
      " ###:field:### user: anaaaaa_martins ###:field:### tweet: RT @centraldepp: Momentos icônicos de Johnny Depp no tribunal 🗣 https://t.co/mwfBlPPrrW ###:field:### date: Sun May 01 19:14:08 +0000 2022 ###:field:### location: Goiânia, Brasil ###:field:### hashtags: \n",
      "\n",
      "None\n",
      " ###:field:### user: eternitymoll ###:field:### tweet: RT @waiibearbie: ในวันที่คนอื่นหันหลังให้ Johnny Depp ก็ยังมี Dior ที่ไม่ไปไหน อยากอุดหนุน Sauvage ก็เพราะแบบนี้ https://t.co/Bjip0AXbT7 ###:field:### date: Sun May 01 19:14:08 +0000 2022 ###:field:### location: Unknown ###:field:### hashtags: \n",
      "\n",
      "None\n",
      " ###:field:### user: gypsysinger ###:field:### tweet: RT @dontlickchalk: I know more about Johnny Depp's and Amber Heard's relationship than I do about the treasonous actions committed by Clare… ###:field:### date: Sun May 01 19:14:08 +0000 2022 ###:field:### location: Unknown ###:field:### hashtags: \n",
      "\n",
      "fumpty belediyesi\n",
      " ###:field:### user: fumpty ###:field:### tweet: lobi bunlar, önce ahmet kural’ı bitirdiler, şimdi johnny depp’e geldi sıra. ###:field:### date: Sun May 01 19:14:08 +0000 2022 ###:field:### location: fumpty belediyesi ###:field:### hashtags: \n",
      "\n",
      "In the bossom of the lord\n",
      " ###:field:### user: _Nameless_man__ ###:field:### tweet: RT @GellertDepp: I don’t think there’s anything that better explains Amber Heard than than “a source” (Fartlow) thinking that saying “to be… ###:field:### date: Sun May 01 19:14:09 +0000 2022 ###:field:### location: In the bossom of the lord ###:field:### hashtags: \n",
      "\n",
      "CDMX\n",
      " ###:field:### user: BlackMambaSuite ###:field:### tweet: RT @JorgeGarcesMx: POV: Eres Johnny Depp llegando a tu habitación https://t.co/J3guXAFXr7 ###:field:### date: Sun May 01 19:14:10 +0000 2022 ###:field:### location: CDMX ###:field:### hashtags: \n",
      "\n",
      "🇨🇦🇹🇼🇭🇰\n",
      " ###:field:### user: blondedFLEUR ###:field:### tweet: they called her a gold digger even when depp was the one chasing her very soon after breaking up with his longtime… https://t.co/YlKWKtjEiy ###:field:### date: Sun May 01 19:14:10 +0000 2022 ###:field:### location: 🇨🇦🇹🇼🇭🇰 ###:field:### hashtags: \n",
      "\n",
      "None\n",
      " ###:field:### user: thembello ###:field:### tweet: RT @blackpnwlady: The way y’all treating this trial like it’s entertainment is weird ###:field:### date: Sun May 01 19:14:10 +0000 2022 ###:field:### location: Unknown ###:field:### hashtags: \n",
      "\n",
      "Levallois-Perret, France\n",
      " ###:field:### user: KKarirangan ###:field:### tweet: RT @juliettepsrki: J’arrive toujours pas à concevoir que l’avocat d’Amber Heard, à dit « objection » à sa propre question, en plein milieu… ###:field:### date: Sun May 01 19:14:11 +0000 2022 ###:field:### location: Levallois-Perret, France ###:field:### hashtags: \n",
      "\n",
      "In my head\n",
      " ###:field:### user: CarrieBelle_ ###:field:### tweet: RT @jacxpearl: her every changing story, which one will we hear this year? a multiple choice question  a) Amber Heard's 2016 account b) Amb… ###:field:### date: Sun May 01 19:14:11 +0000 2022 ###:field:### location: In my head ###:field:### hashtags: \n",
      "\n",
      "None\n",
      " ###:field:### user: 1coolwhipp ###:field:### tweet: RT @ls_fitz: FYI: The Johnny Depp vs Amber Heard trial is TELEVISED. You can even watch it on YOUTUBE, and make up your own mind. The media… ###:field:### date: Sun May 01 19:14:12 +0000 2022 ###:field:### location: Unknown ###:field:### hashtags: \n",
      "\n",
      "None\n",
      " ###:field:### user: milespourlelol ###:field:### tweet: RT @FinneganHark: AH: “I have no idea why Christian Dior contacted Johnny Depp if they were looking for someone with style…”  The first Dio… ###:field:### date: Sun May 01 19:14:12 +0000 2022 ###:field:### location: Unknown ###:field:### hashtags: \n",
      "\n",
      "BlackLivesMatter\n",
      " ###:field:### user: Calmshadowcat ###:field:### tweet: RT @aphrodisiaIy: Johnny Depo fans looking for the people who single-handedly set the feminist movement back 50 yrs https://t.co/lpuem7Lftf ###:field:### date: Sun May 01 19:14:13 +0000 2022 ###:field:### location: BlackLivesMatter ###:field:### hashtags: \n",
      "\n",
      "None\n",
      " ###:field:### user: saraatsog ###:field:### tweet: RT @Lkhagva: Johnny Depp ах алдар хүндгүй, царай муутай Монгол залуу байсан бол эхнэртээ зодуулаад л, араар тавиулаад л яваандаа архинд орж… ###:field:### date: Sun May 01 19:14:14 +0000 2022 ###:field:### location: Unknown ###:field:### hashtags: \n",
      "\n",
      "None\n",
      " ###:field:### user: bee_papaya ###:field:### tweet: RT @BreitbartNews: Nolte: There is no equity in Hollywood when Johnny Depp is unemployable, and Amber Heard is about to star in \"Aquaman an… ###:field:### date: Sun May 01 19:14:14 +0000 2022 ###:field:### location: Unknown ###:field:### hashtags: \n",
      "\n",
      "None\n",
      " ###:field:### user: thembello ###:field:### tweet: RT @OsmanthusMk: Would you have found it funny if it was the other way around @DrewBarrymore ? If Johnny abused Amber, will you laugh like… ###:field:### date: Sun May 01 19:14:17 +0000 2022 ###:field:### location: Unknown ###:field:### hashtags: \n",
      "\n",
      "Kendall, FL\n",
      " ###:field:### user: Sunkissedalanis ###:field:### tweet: RT @Itssan17: WB fired Johnny Depp from Fantastic Beasts and now the movie is failing worldwide. We call it poetic Justice https://t.co/39Z… ###:field:### date: Sun May 01 19:14:17 +0000 2022 ###:field:### location: Kendall, FL ###:field:### hashtags: \n",
      "\n",
      "Clemson, South Carolina\n",
      " ###:field:### user: williammiley ###:field:### tweet: RT @MsJenneh18: Why wasn't Ghislaine Maxwell in court for as long as Depp and Heard?  Why wasn't THAT trial public?  Instead of glorifying… ###:field:### date: Sun May 01 19:14:17 +0000 2022 ###:field:### location: Clemson, South Carolina ###:field:### hashtags: \n",
      "\n"
     ]
    }
   ],
   "source": [
    "print(f\"Now listening on port: {port}\")\n",
    "new_skt.listen(5)                 # waiting for client connection\n",
    "c, addr = new_skt.accept()        # Establish connection with client\n",
    "\n",
    "print(f\"Received request from: {addr}\")\n",
    "send_tweets(c)                    # send tweets to client socket"
   ]
  },
  {
   "cell_type": "code",
   "execution_count": null,
   "id": "aee3ce4a-d7c1-4267-9c27-f7cc800a00db",
   "metadata": {},
   "outputs": [],
   "source": []
  },
  {
   "cell_type": "code",
   "execution_count": null,
   "id": "1f478d48-2f17-4080-b65f-b60b0ed92d18",
   "metadata": {},
   "outputs": [],
   "source": []
  }
 ],
 "metadata": {
  "kernelspec": {
   "display_name": "Python 3 (ipykernel)",
   "language": "python",
   "name": "python3"
  },
  "language_info": {
   "codemirror_mode": {
    "name": "ipython",
    "version": 3
   },
   "file_extension": ".py",
   "mimetype": "text/x-python",
   "name": "python",
   "nbconvert_exporter": "python",
   "pygments_lexer": "ipython3",
   "version": "3.9.10"
  }
 },
 "nbformat": 4,
 "nbformat_minor": 5
}
