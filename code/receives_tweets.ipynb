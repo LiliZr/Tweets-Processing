{
 "cells": [
  {
   "cell_type": "markdown",
   "id": "1f325423-ca30-409b-9082-e89b276b4eb8",
   "metadata": {},
   "source": [
    "# Project - Apache Spark & Elastichsearch\n",
    "\n",
    "##### Students:\n",
    "* Lilia IZRI      (DS)\n",
    "* Yacine MOKHTARI (DS)\n",
    "* Alexandre COMBEAU (DS)\n",
    "\n",
    "##### Report\n",
    "[PENSER A METTRE UN LIEN ICI]\n"
   ]
  },
  {
   "cell_type": "code",
   "execution_count": 1,
   "id": "1568bf0e-bf44-469d-94e8-00a82ffcb276",
   "metadata": {},
   "outputs": [],
   "source": [
    "# pip install tweepy"
   ]
  },
  {
   "cell_type": "code",
   "execution_count": 1,
   "id": "bb7586ef-19a0-4749-a287-5f497046f635",
   "metadata": {},
   "outputs": [],
   "source": [
    "# Imports\n",
    "import tweepy\n",
    "from tweepy.auth import OAuthHandler\n",
    "from tweepy import Stream\n",
    "import socket\n",
    "import json\n",
    "from geo import get_location_by_address"
   ]
  },
  {
   "cell_type": "markdown",
   "id": "1ba429eb-0b37-4a89-bebb-e5bd4c4a5227",
   "metadata": {},
   "source": [
    "## I. Processing Twitter as a Stream"
   ]
  },
  {
   "cell_type": "markdown",
   "id": "feb8675b-c9b5-4d3e-b7b3-e49a43eb3db1",
   "metadata": {},
   "source": [
    "### 1. Settings : Insert Twitter developer credentials"
   ]
  },
  {
   "cell_type": "code",
   "execution_count": 2,
   "id": "dec530f0-0033-414a-a49a-05c8167ac411",
   "metadata": {},
   "outputs": [],
   "source": [
    "# KEYS (Remarque mdr c'est des clés que j'ai trouvées sur un site 🤷🏻‍♀️)\n",
    "consumer_key    = '3XwgFgsXucaFXOrkZtlwvxV5O'\n",
    "consumer_secret = 'LNnTcxibKalylVImljDsKfkRqb6WHD8I7hdSYt7Pm7VaCetqZm'\n",
    "access_token    = '608048932-AM21gcwLORlm5j0514DwPL850byLb7Gs04bPZ6Mn'\n",
    "access_secret   = 'QtnJ8mV75peV7L7Kd4DZKogMRIxzjk5XFOPtZiz62NoM3'"
   ]
  },
  {
   "cell_type": "markdown",
   "id": "a1ded8fb-bca3-46a4-b87f-ef9d561d341b",
   "metadata": {},
   "source": [
    "### 2. Creating a new listener class"
   ]
  },
  {
   "cell_type": "code",
   "execution_count": 20,
   "id": "3d614664-ece1-42fe-9533-0cdf573bfff8",
   "metadata": {},
   "outputs": [],
   "source": [
    "# Class that represents our Listener\n",
    "class TweetsListener(Stream):\n",
    "\n",
    "    def __init__(self, *args, csocket):\n",
    "        super().__init__(*args)\n",
    "        self.client_socket = csocket\n",
    "    def on_data(self, data):\n",
    "        try:\n",
    "            # Extracting interesting fields\n",
    "            tweet = json.loads( data )\n",
    "            text = tweet['text']\n",
    "            user = tweet['user']['screen_name']\n",
    "            # location = tweet['user']['location'] if tweet['user']['location'] is not None else 'Unknown'\n",
    "            date = tweet['created_at']\n",
    "            \n",
    "            # Handle hashtags (we join the list by adding '#' and separate them by a space ' '\n",
    "            list_hashtags = tweet['entities']['hashtags']\n",
    "            hashtags = \" \".join(['#' + i['text' ] for i in list_hashtags]) if list_hashtags is not [] else \"\"\n",
    "            \n",
    "            # Handle the location \n",
    "            location = get_location_by_address(tweet['user']['location']) \n",
    "            latitude, longitude = location if location is not None else get_location_by_address('Unknown')\n",
    "            print(latitude, longitude)\n",
    "            \n",
    "            #  We combine data and metadata to send them \n",
    "            #  We add a key ###:field:### so we can split the fields easily \n",
    "            #  We remove '\\n' from a tweet and put one '\\n' between tweets \n",
    "            tweet_info = (\" ###:field:### user: \" + user      + \" ###:field:### tweet: \"    + text +\\\n",
    "                          \" ###:field:### date: \" + date      + \" ###:field:### lat: \"      + latitude + \\\n",
    "                          \" ###:field:### lon: \"  + longitude + \" ###:field:### hashtags: \" + hashtags + \\\n",
    "                          \" ###:field:### id: \"+ tweet['user']['id_str']\n",
    "                          ).replace('\\n', ' ') + '\\n'\n",
    "            \n",
    "            #print(tweet['user']['location'])\n",
    "            if(tweet['coordinates'] is not None):\n",
    "                latitude = tweet[\"coordinates\"]\n",
    "                print(latitude)\n",
    "            print(tweet_info)\n",
    "            \n",
    "            # Send to socket : We convert this tweet into a bite code (since spark takes easily this kind of data)\n",
    "            self.client_socket.send(tweet_info.encode('utf-8'))\n",
    "            return True\n",
    "        except BaseException as e:\n",
    "            print(\"Error on_data: %s\" % str(e))\n",
    "        return True\n",
    "\n",
    "    # Handle errors\n",
    "    def if_error(self, status):\n",
    "        print(status)\n",
    "        return True"
   ]
  },
  {
   "cell_type": "markdown",
   "id": "12b87689-7fb6-4900-90e4-a8b713a2cb53",
   "metadata": {},
   "source": [
    "The method that captures these tweets in spark (```socketTextStream(port..)```) will concider a text containing a single \"\\n\" as two different entries. <br>\n",
    "Since we don't want the same tweet to be separated in two differents RDDs, we replace each '\\n' by a simple space ' '"
   ]
  },
  {
   "cell_type": "markdown",
   "id": "afce058b-ffe7-446c-b2cf-11e1f47910cc",
   "metadata": {},
   "source": [
    "###  3. Authenticate our connection using the pre-defined credentials \n",
    "In order to begin streaming, we have to implement a function that allows us to authenticate our connection"
   ]
  },
  {
   "cell_type": "code",
   "execution_count": 5,
   "id": "29af06e5-8b65-4d5d-91a6-d4691cc33147",
   "metadata": {},
   "outputs": [],
   "source": [
    "def send_tweets(c_socket):\n",
    "    \"\"\"\n",
    "        Send tweets to client socket (in our case ✨SPARK✨)\n",
    "    \"\"\"\n",
    "    twtr_stream = TweetsListener(\n",
    "        consumer_key, consumer_secret,\n",
    "        access_token, access_secret,\n",
    "        csocket=c_socket\n",
    "    )\n",
    "    twtr_stream.filter(track=['Macron'])#, 'depp', 'macron', 'covid', 'ukraine', 'heard', 'yoda', 'thread', 'sport'])"
   ]
  },
  {
   "cell_type": "markdown",
   "id": "a866ea86-29c1-4038-bdf9-b9f7a02e0970",
   "metadata": {},
   "source": [
    "###  4. Testing connection with client (Spark)\n",
    "The second step would be to pass the collected tweets to Spark. A way to do that, is to send them in a TCP/socket (that would be the entry point of Spark Streaming)"
   ]
  },
  {
   "cell_type": "code",
   "execution_count": 6,
   "id": "91dfef35-9241-4c7a-91aa-077dbe8bc603",
   "metadata": {},
   "outputs": [],
   "source": [
    "new_skt = socket.socket()         # initiate a socket object\n",
    "host = \"127.0.0.1\"                # address host\n",
    "port = 5553                       # specifie port \n",
    "new_skt.bind((host, port))        # Binding host and port"
   ]
  },
  {
   "cell_type": "code",
   "execution_count": null,
   "id": "62b8ee64-96a6-4bf0-9719-4576e8e06611",
   "metadata": {},
   "outputs": [
    {
     "name": "stdout",
     "output_type": "stream",
     "text": [
      "Now listening on port: 5553\n",
      "Received request from: ('127.0.0.1', 55762)\n",
      "33.7489924 -84.3902644\n",
      " ###:field:### user: Radlein ###:field:### tweet: RT @Taniel: Last leg of deal was struck today between Melenchon’s left populist party and long-dominant center-left Socialist Party. This i… ###:field:### date: Thu May 05 02:59:34 +0000 2022 ###:field:### lat: 33.7489924 ###:field:### lon: -84.3902644 ###:field:### hashtags:  ###:field:### id: 15982094\n",
      "\n",
      "44.933143 7.540121\n",
      " ###:field:### user: 2022Nemesis ###:field:### tweet: @UPR_Asselineau https://t.co/QWqeuTE6YG ###:field:### date: Thu May 05 02:59:35 +0000 2022 ###:field:### lat: 44.933143 ###:field:### lon: 7.540121 ###:field:### hashtags:  ###:field:### id: 1480197559369056262\n",
      "\n",
      "34.2331373 -102.4107493\n",
      " ###:field:### user: ConflictNews6 ###:field:### tweet: @dna https://t.co/kIHBj9beOQ ###:field:### date: Thu May 05 02:59:36 +0000 2022 ###:field:### lat: 34.2331373 ###:field:### lon: -102.4107493 ###:field:### hashtags:  ###:field:### id: 1392003619357003786\n",
      "\n",
      "22.3511148 78.6677428\n",
      " ###:field:### user: Abhishe39522201 ###:field:### tweet: RT @FRANCE24: Modi, Macron call for ‘immediate’ end to Ukraine hostilities, but differences remain https://t.co/KlQtak2Djs https://t.co/iOC… ###:field:### date: Thu May 05 02:59:37 +0000 2022 ###:field:### lat: 22.3511148 ###:field:### lon: 78.6677428 ###:field:### hashtags:  ###:field:### id: 1170480109985226752\n",
      "\n",
      "44.933143 7.540121\n",
      " ###:field:### user: dkmishrasc ###:field:### tweet: RT @RubikaLiyaquat: Modi संग Macron  दो सबसे महत्वपूर्ण और मज़बूत नेता जो यूक्रेन-रूस युद्ध को रुकवाने में अहम भूमिका निभा सकते हैं… https:… ###:field:### date: Thu May 05 02:59:37 +0000 2022 ###:field:### lat: 44.933143 ###:field:### lon: 7.540121 ###:field:### hashtags:  ###:field:### id: 3243776072\n",
      "\n",
      "46.9081601 -0.8729653\n",
      " ###:field:### user: lachuteero ###:field:### tweet: RT @CamaradeCharles: On dirait nous quand on a dû choisir entre Macron et Le Pen. ###:field:### date: Thu May 05 02:59:39 +0000 2022 ###:field:### lat: 46.9081601 ###:field:### lon: -0.8729653 ###:field:### hashtags:  ###:field:### id: 3195789017\n",
      "\n",
      "48.937634 2.5298164\n",
      " ###:field:### user: marocain2f ###:field:### tweet: RT @Europe1: Aux membres du PS qui rejoignent E. Macron :\"Je leur souhaite bonne chance, si ils se sentent à l'aise avec la retraite à 65 a… ###:field:### date: Thu May 05 02:59:43 +0000 2022 ###:field:### lat: 48.937634 ###:field:### lon: 2.5298164 ###:field:### hashtags:  ###:field:### id: 1517697726263308292\n",
      "\n",
      "44.933143 7.540121\n",
      " ###:field:### user: oceane205013 ###:field:### tweet: RT @realmarcel1: Dans cet incroyable article, on apprend qu’Emmanuel Macron cherche à séduire la gauche pour contrer Mélenchon en investiss… ###:field:### date: Thu May 05 02:59:43 +0000 2022 ###:field:### lat: 44.933143 ###:field:### lon: 7.540121 ###:field:### hashtags:  ###:field:### id: 2737178794\n",
      "\n",
      "44.933143 7.540121\n",
      " ###:field:### user: XIlbrTPQMl5IxGK ###:field:### tweet: RT @AnjuChandel_: @rupagulab 👇🏻 oye rupa gulam, do you even know how does it feel to hug a president as prime minister of largest democracy… ###:field:### date: Thu May 05 02:59:45 +0000 2022 ###:field:### lat: 44.933143 ###:field:### lon: 7.540121 ###:field:### hashtags:  ###:field:### id: 1111401607315492864\n",
      "\n",
      "36.6400304 5.2384909\n",
      " ###:field:### user: Fantasmi7 ###:field:### tweet: RT @EnModeMacaron: On apprend que le député LREM Thierry Solère, très proche de Macron, aurait utilisé l'argent public pour des paris à La… ###:field:### date: Thu May 05 02:59:47 +0000 2022 ###:field:### lat: 36.6400304 ###:field:### lon: 5.2384909 ###:field:### hashtags:  ###:field:### id: 1198802827428204545\n",
      "\n",
      "33.7489924 -84.3902644\n",
      " ###:field:### user: Radlein ###:field:### tweet: RT @Taniel: MANY questions: — Leftwide deal puts new pressure on Macron’s party &amp; long-dominant conservative party to ally. Will they? —Sam… ###:field:### date: Thu May 05 02:59:50 +0000 2022 ###:field:### lat: 33.7489924 ###:field:### lon: -84.3902644 ###:field:### hashtags:  ###:field:### id: 15982094\n",
      "\n",
      "44.933143 7.540121\n",
      " ###:field:### user: CorinneTarrago ###:field:### tweet: RT @RIPLAY007: #legislatives2022 #LREM #Macron  🟥Une députée #LREM balance tout  ‼️  Nous ne sommes là que pour un décorum, un jeu de rôle.… ###:field:### date: Thu May 05 02:59:50 +0000 2022 ###:field:### lat: 44.933143 ###:field:### lon: 7.540121 ###:field:### hashtags: #legislatives2022 #LREM #Macron #LREM ###:field:### id: 1313597692942090242\n",
      "\n",
      "44.933143 7.540121\n",
      " ###:field:### user: HeleneLeontine ###:field:### tweet: RT @dreslincourt: Huile, farine, œufs...Les pénuries de produits se multiplient dans les grandes surfaces. ( Figaro) Macron président, c'es… ###:field:### date: Thu May 05 02:59:50 +0000 2022 ###:field:### lat: 44.933143 ###:field:### lon: 7.540121 ###:field:### hashtags:  ###:field:### id: 1269905337253052417\n",
      "\n",
      "44.933143 7.540121\n",
      " ###:field:### user: YannLT7 ###:field:### tweet: RT @UPR_Asselineau: 😳MACRON NE TROUVE PAS DE CHEF DE MAJORITÉ - [1] Du point de vue politique et institutionnel,la situation est extravagan… ###:field:### date: Thu May 05 02:59:52 +0000 2022 ###:field:### lat: 44.933143 ###:field:### lon: 7.540121 ###:field:### hashtags:  ###:field:### id: 1386192995779710986\n",
      "\n",
      "44.933143 7.540121\n",
      " ###:field:### user: royprateek2010 ###:field:### tweet: RT @sidhant: President Macron, PM Modi in Paris https://t.co/JNuDTJ6csl ###:field:### date: Thu May 05 02:59:52 +0000 2022 ###:field:### lat: 44.933143 ###:field:### lon: 7.540121 ###:field:### hashtags:  ###:field:### id: 163162895\n",
      "\n"
     ]
    }
   ],
   "source": [
    "print(f\"Now listening on port: {port}\")\n",
    "new_skt.listen(5)                 # waiting for client connection\n",
    "c, addr = new_skt.accept()        # Establish connection with client\n",
    "\n",
    "print(f\"Received request from: {addr}\")\n",
    "send_tweets(c)                    # send tweets to client socket"
   ]
  },
  {
   "cell_type": "code",
   "execution_count": null,
   "id": "cbccd5ca-33db-4997-b90b-85207a0a8e35",
   "metadata": {},
   "outputs": [],
   "source": []
  },
  {
   "cell_type": "code",
   "execution_count": null,
   "id": "aee3ce4a-d7c1-4267-9c27-f7cc800a00db",
   "metadata": {},
   "outputs": [],
   "source": []
  },
  {
   "cell_type": "code",
   "execution_count": null,
   "id": "1f478d48-2f17-4080-b65f-b60b0ed92d18",
   "metadata": {},
   "outputs": [],
   "source": []
  },
  {
   "cell_type": "code",
   "execution_count": null,
   "id": "a0b70373-bcec-4751-ab3a-2cb189d4bcf2",
   "metadata": {},
   "outputs": [],
   "source": []
  },
  {
   "cell_type": "code",
   "execution_count": null,
   "id": "ca2f69d6-de6b-4f12-8b79-804f3906cad1",
   "metadata": {},
   "outputs": [],
   "source": []
  },
  {
   "cell_type": "code",
   "execution_count": null,
   "id": "a5effba6-00a2-49d9-aba6-324d6553e14d",
   "metadata": {},
   "outputs": [],
   "source": []
  }
 ],
 "metadata": {
  "kernelspec": {
   "display_name": "Python 3 (ipykernel)",
   "language": "python",
   "name": "python3"
  },
  "language_info": {
   "codemirror_mode": {
    "name": "ipython",
    "version": 3
   },
   "file_extension": ".py",
   "mimetype": "text/x-python",
   "name": "python",
   "nbconvert_exporter": "python",
   "pygments_lexer": "ipython3",
   "version": "3.9.10"
  }
 },
 "nbformat": 4,
 "nbformat_minor": 5
}
