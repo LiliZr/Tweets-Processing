{
 "cells": [
  {
   "cell_type": "markdown",
   "id": "1f325423-ca30-409b-9082-e89b276b4eb8",
   "metadata": {},
   "source": [
    "# Project - Apache Spark & Elastichsearch\n",
    "## 1st Notebook : Tweepy\n",
    "##### Students:\n",
    "* Lilia IZRI      (DS)\n",
    "* Yacine MOKHTARI (DS)\n",
    "* Alexandre COMBEAU (DS)\n",
    "\n",
    "##### Report\n",
    "[PENSER A METTRE UN LIEN ICI]\n"
   ]
  },
  {
   "cell_type": "code",
   "execution_count": 1,
   "id": "8a1fd91e-2b2c-4b20-a9d8-6a3bbc3b0820",
   "metadata": {},
   "outputs": [],
   "source": [
    "### Uncomment this to install the needed libraries\n",
    "# !pip install -r requirements.txt"
   ]
  },
  {
   "cell_type": "code",
   "execution_count": 2,
   "id": "bb7586ef-19a0-4749-a287-5f497046f635",
   "metadata": {},
   "outputs": [
    {
     "name": "stderr",
     "output_type": "stream",
     "text": [
      "/opt/conda/lib/python3.9/site-packages/elasticsearch/connection/base.py:200: ElasticsearchWarning: Elasticsearch built-in security features are not enabled. Without authentication, your cluster could be accessible to anyone. See https://www.elastic.co/guide/en/elasticsearch/reference/7.17/security-minimal-setup.html to enable security.\n",
      "  warnings.warn(message, category=ElasticsearchWarning)\n"
     ]
    }
   ],
   "source": [
    "# Imports\n",
    "import tweepy\n",
    "from tweepy.auth import OAuthHandler\n",
    "from tweepy import Stream\n",
    "import socket\n",
    "import json\n",
    "from utils import get_location_by_address"
   ]
  },
  {
   "cell_type": "markdown",
   "id": "1ba429eb-0b37-4a89-bebb-e5bd4c4a5227",
   "metadata": {},
   "source": [
    "## I. Processing Twitter as a Stream"
   ]
  },
  {
   "cell_type": "markdown",
   "id": "feb8675b-c9b5-4d3e-b7b3-e49a43eb3db1",
   "metadata": {},
   "source": [
    "### 1. Settings : Insert Twitter developer credentials"
   ]
  },
  {
   "cell_type": "code",
   "execution_count": 3,
   "id": "dec530f0-0033-414a-a49a-05c8167ac411",
   "metadata": {},
   "outputs": [],
   "source": [
    "# KEYS (Remarque mdr c'est des clés que j'ai trouvées sur un site 🤷🏻‍♀️)\n",
    "consumer_key    = '3XwgFgsXucaFXOrkZtlwvxV5O'\n",
    "consumer_secret = 'LNnTcxibKalylVImljDsKfkRqb6WHD8I7hdSYt7Pm7VaCetqZm'\n",
    "access_token    = '608048932-AM21gcwLORlm5j0514DwPL850byLb7Gs04bPZ6Mn'\n",
    "access_secret   = 'QtnJ8mV75peV7L7Kd4DZKogMRIxzjk5XFOPtZiz62NoM3'"
   ]
  },
  {
   "cell_type": "markdown",
   "id": "a1ded8fb-bca3-46a4-b87f-ef9d561d341b",
   "metadata": {},
   "source": [
    "### 2. Creating a new listener class"
   ]
  },
  {
   "cell_type": "code",
   "execution_count": 4,
   "id": "3d614664-ece1-42fe-9533-0cdf573bfff8",
   "metadata": {},
   "outputs": [],
   "source": [
    "# Class that represents our Listener\n",
    "class TweetsListener(Stream):\n",
    "    \n",
    "    def __init__(self, *args, csocket):\n",
    "        super().__init__(*args)\n",
    "        self.client_socket = csocket\n",
    "    def on_data(self, data):\n",
    "        \"\"\"\n",
    "        Here, we extract these fields : \n",
    "            - .... \n",
    "        \"\"\"\n",
    "        try:\n",
    "            ### Extracting interesting fields (text, username and date)\n",
    "            tweet = json.loads( data )\n",
    "            text = tweet['text']\n",
    "            user = tweet['user']['screen_name']\n",
    "            date = tweet['created_at']\n",
    "            \n",
    "            ### Handle hashtags (we join the list by adding '#' and separate them by a space ' '\n",
    "            list_hashtags = tweet['entities']['hashtags']\n",
    "            hashtags = \" \".join(['#' + i['text' ] for i in list_hashtags]) if list_hashtags is not [] else \"\"\n",
    "            \n",
    "            ### Handle the location \n",
    "            location = get_location_by_address(tweet['user']['location']) \n",
    "            latitude, longitude = location if location is not None else get_location_by_address('Unknown')\n",
    "            \n",
    "            ###  We combine data and metadata to send them \n",
    "            #  We add a key ###:field:### so we can split the fields easily \n",
    "            #  We remove '\\n' from a tweet and put one '\\n' between tweets \n",
    "            tweet_info = (\" ###:field:### user:\" + user      + \" ###:field:### tweet:\"    + text +\\\n",
    "                          \" ###:field:### date:\" + date      + \" ###:field:### lat:\"      + latitude + \\\n",
    "                          \" ###:field:### lon:\"  + longitude + \" ###:field:### hashtags:\" + hashtags + \\\n",
    "                          \" ###:field:### id:\"+ tweet['user']['id_str']\n",
    "                          ).replace('\\n', ' ') + '\\n'\n",
    "            \n",
    "            ### Uncomment to see the string we pass through the TCP port\n",
    "            # print(tweet_info)\n",
    "            \n",
    "            ### Send to socket : We convert this tweet into a bite code (since spark takes easily this kind of data)\n",
    "            self.client_socket.send(tweet_info.encode('utf-8'))\n",
    "            return True\n",
    "        \n",
    "        except BaseException as e:\n",
    "            print(\"Error on_data: %s\" % str(e))\n",
    "        \n",
    "        return True\n",
    "\n",
    "    # Handle errors\n",
    "    def if_error(self, status):\n",
    "        print(status)\n",
    "        return True"
   ]
  },
  {
   "cell_type": "markdown",
   "id": "12b87689-7fb6-4900-90e4-a8b713a2cb53",
   "metadata": {},
   "source": [
    "> The method that captures these tweets in spark (```socketTextStream(port..)```) will concider a text containing a single \"\\n\" as two different entries. <br>\n",
    "Since we don't want the same tweet to be separated in two differents RDDs, we replace each '\\n' by a simple space ' '"
   ]
  },
  {
   "cell_type": "markdown",
   "id": "afce058b-ffe7-446c-b2cf-11e1f47910cc",
   "metadata": {},
   "source": [
    "###  3. Authenticate our connection using the pre-defined credentials \n",
    "In order to begin streaming, we have to implement a function that allows us to authenticate our connection"
   ]
  },
  {
   "cell_type": "code",
   "execution_count": 5,
   "id": "29af06e5-8b65-4d5d-91a6-d4691cc33147",
   "metadata": {},
   "outputs": [],
   "source": [
    "def send_tweets(c_socket):\n",
    "    \"\"\"\n",
    "        Send tweets to client socket (in our case ✨SPARK✨)\n",
    "    \"\"\"\n",
    "    twtr_stream = TweetsListener(\n",
    "        consumer_key, consumer_secret,\n",
    "        access_token, access_secret,\n",
    "        csocket=c_socket\n",
    "    )\n",
    "    twtr_stream.filter(track=['depp'])#, 'depp', 'macron', 'covid', 'ukraine', 'heard', 'yoda', 'thread', 'sport'])"
   ]
  },
  {
   "cell_type": "markdown",
   "id": "a866ea86-29c1-4038-bdf9-b9f7a02e0970",
   "metadata": {},
   "source": [
    "###  4. Testing connection with client (Spark)\n",
    "The second step would be to pass the collected tweets to Spark. A way to do that, is to send them in a TCP/socket (that would be the entry point of Spark Streaming)"
   ]
  },
  {
   "cell_type": "code",
   "execution_count": 6,
   "id": "91dfef35-9241-4c7a-91aa-077dbe8bc603",
   "metadata": {},
   "outputs": [],
   "source": [
    "new_skt = socket.socket()         # initiate a socket object\n",
    "host = \"127.0.0.1\"                # address host\n",
    "port = 5557                       # specifie port \n",
    "new_skt.bind((host, port))        # Binding host and port"
   ]
  },
  {
   "cell_type": "code",
   "execution_count": null,
   "id": "62b8ee64-96a6-4bf0-9719-4576e8e06611",
   "metadata": {},
   "outputs": [
    {
     "name": "stdout",
     "output_type": "stream",
     "text": [
      "Now listening on port: 5557\n",
      "Received request from: ('127.0.0.1', 60460)\n"
     ]
    }
   ],
   "source": [
    "print(f\"Now listening on port: {port}\")\n",
    "new_skt.listen(5)                 # waiting for client connection\n",
    "c, addr = new_skt.accept()        # Establish connection with client\n",
    "\n",
    "print(f\"Received request from: {addr}\")\n",
    "send_tweets(c)                    # send tweets to client socket"
   ]
  },
  {
   "cell_type": "code",
   "execution_count": null,
   "id": "cbccd5ca-33db-4997-b90b-85207a0a8e35",
   "metadata": {},
   "outputs": [],
   "source": []
  },
  {
   "cell_type": "code",
   "execution_count": null,
   "id": "aee3ce4a-d7c1-4267-9c27-f7cc800a00db",
   "metadata": {},
   "outputs": [],
   "source": []
  },
  {
   "cell_type": "code",
   "execution_count": null,
   "id": "1f478d48-2f17-4080-b65f-b60b0ed92d18",
   "metadata": {},
   "outputs": [],
   "source": []
  },
  {
   "cell_type": "code",
   "execution_count": null,
   "id": "a0b70373-bcec-4751-ab3a-2cb189d4bcf2",
   "metadata": {},
   "outputs": [],
   "source": []
  },
  {
   "cell_type": "code",
   "execution_count": null,
   "id": "ca2f69d6-de6b-4f12-8b79-804f3906cad1",
   "metadata": {},
   "outputs": [],
   "source": []
  },
  {
   "cell_type": "code",
   "execution_count": null,
   "id": "a5effba6-00a2-49d9-aba6-324d6553e14d",
   "metadata": {},
   "outputs": [],
   "source": []
  }
 ],
 "metadata": {
  "kernelspec": {
   "display_name": "Python 3 (ipykernel)",
   "language": "python",
   "name": "python3"
  },
  "language_info": {
   "codemirror_mode": {
    "name": "ipython",
    "version": 3
   },
   "file_extension": ".py",
   "mimetype": "text/x-python",
   "name": "python",
   "nbconvert_exporter": "python",
   "pygments_lexer": "ipython3",
   "version": "3.9.10"
  }
 },
 "nbformat": 4,
 "nbformat_minor": 5
}
